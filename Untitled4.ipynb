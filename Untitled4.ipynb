{
 "cells": [
  {
   "cell_type": "code",
   "execution_count": 1,
   "id": "67018dbe",
   "metadata": {},
   "outputs": [],
   "source": [
    "import pandas as pd\n",
    "df=pd.read_csv('intentclass.csv')"
   ]
  },
  {
   "cell_type": "code",
   "execution_count": 2,
   "id": "c2619e38",
   "metadata": {},
   "outputs": [],
   "source": [
    "for i in df.index:\n",
    "    df.loc[i]['Transliteration']=df.loc[i]['Transliteration'].lower()"
   ]
  },
  {
   "cell_type": "code",
   "execution_count": 3,
   "id": "fd508f09",
   "metadata": {},
   "outputs": [],
   "source": [
    "def replace_symbol(filename):\n",
    "    for symbol in ['*', '?', '%', '&', '$', '(', ')', '#', '^', '@', '!', '~', '-', '+', '=', \",\", \"'\", '\"',\"/\", \".\"]:\n",
    "        if symbol in filename:\n",
    "            filename = filename.replace(symbol, '')\n",
    "    return filename"
   ]
  },
  {
   "cell_type": "code",
   "execution_count": 4,
   "id": "f477fe51",
   "metadata": {},
   "outputs": [],
   "source": [
    "for i in df.index:\n",
    "    df.loc[i]['Transliteration']=replace_symbol(df.loc[i]['Transliteration'])"
   ]
  },
  {
   "cell_type": "code",
   "execution_count": 89,
   "id": "1b604f55",
   "metadata": {},
   "outputs": [
    {
     "data": {
      "text/html": [
       "<div>\n",
       "<style scoped>\n",
       "    .dataframe tbody tr th:only-of-type {\n",
       "        vertical-align: middle;\n",
       "    }\n",
       "\n",
       "    .dataframe tbody tr th {\n",
       "        vertical-align: top;\n",
       "    }\n",
       "\n",
       "    .dataframe thead th {\n",
       "        text-align: right;\n",
       "    }\n",
       "</style>\n",
       "<table border=\"1\" class=\"dataframe\">\n",
       "  <thead>\n",
       "    <tr style=\"text-align: right;\">\n",
       "      <th></th>\n",
       "      <th>INTENTS</th>\n",
       "      <th>QUERIES</th>\n",
       "      <th>translated_text</th>\n",
       "      <th>Transliteration</th>\n",
       "    </tr>\n",
       "  </thead>\n",
       "  <tbody>\n",
       "    <tr>\n",
       "      <th>4968</th>\n",
       "      <td>atis_airfare</td>\n",
       "      <td>what is the airfare for flights from denver t...</td>\n",
       "      <td>डेनवर से पिट्सबर्ग तक डेल्टा एयरलाइन पर उड़ानो...</td>\n",
       "      <td>denavara se pitsabarga taka delta eyaralaina p...</td>\n",
       "    </tr>\n",
       "    <tr>\n",
       "      <th>4969</th>\n",
       "      <td>atis_flight</td>\n",
       "      <td>do you have any flights from denver to baltim...</td>\n",
       "      <td>क्या आपके पास डलास के माध्यम से डेनवर से बाल्ट...</td>\n",
       "      <td>kya apake pasa dalasa ke madhyama se denavara ...</td>\n",
       "    </tr>\n",
       "    <tr>\n",
       "      <th>4970</th>\n",
       "      <td>atis_airline</td>\n",
       "      <td>which airlines fly into and out of denver</td>\n",
       "      <td>कौन सी एयरलाइंस डेनवर से बाहर और बाहर उड़ती है</td>\n",
       "      <td>kauna si eyaralaimsa denavara se bahara aura b...</td>\n",
       "    </tr>\n",
       "    <tr>\n",
       "      <th>4971</th>\n",
       "      <td>atis_flight</td>\n",
       "      <td>does continental fly from boston to san franc...</td>\n",
       "      <td>डेनवर में एक स्टॉप के साथ बोस्टन से सैन फ्रांस...</td>\n",
       "      <td>denavara mem eka staॉpa ke satha bostana se sa...</td>\n",
       "    </tr>\n",
       "    <tr>\n",
       "      <th>4972</th>\n",
       "      <td>atis_flight</td>\n",
       "      <td>is there a delta flight from denver to san fr...</td>\n",
       "      <td>क्या डेनवर से सैन फ्रांसिस्को के लिए एक डेल्टा...</td>\n",
       "      <td>kya denavara se saina phramsisko ke lie eka de...</td>\n",
       "    </tr>\n",
       "  </tbody>\n",
       "</table>\n",
       "</div>"
      ],
      "text/plain": [
       "           INTENTS                                            QUERIES  \\\n",
       "4968  atis_airfare   what is the airfare for flights from denver t...   \n",
       "4969   atis_flight   do you have any flights from denver to baltim...   \n",
       "4970  atis_airline          which airlines fly into and out of denver   \n",
       "4971   atis_flight   does continental fly from boston to san franc...   \n",
       "4972   atis_flight   is there a delta flight from denver to san fr...   \n",
       "\n",
       "                                        translated_text  \\\n",
       "4968  डेनवर से पिट्सबर्ग तक डेल्टा एयरलाइन पर उड़ानो...   \n",
       "4969  क्या आपके पास डलास के माध्यम से डेनवर से बाल्ट...   \n",
       "4970     कौन सी एयरलाइंस डेनवर से बाहर और बाहर उड़ती है   \n",
       "4971  डेनवर में एक स्टॉप के साथ बोस्टन से सैन फ्रांस...   \n",
       "4972  क्या डेनवर से सैन फ्रांसिस्को के लिए एक डेल्टा...   \n",
       "\n",
       "                                        Transliteration  \n",
       "4968  denavara se pitsabarga taka delta eyaralaina p...  \n",
       "4969  kya apake pasa dalasa ke madhyama se denavara ...  \n",
       "4970  kauna si eyaralaimsa denavara se bahara aura b...  \n",
       "4971  denavara mem eka staॉpa ke satha bostana se sa...  \n",
       "4972  kya denavara se saina phramsisko ke lie eka de...  "
      ]
     },
     "execution_count": 89,
     "metadata": {},
     "output_type": "execute_result"
    }
   ],
   "source": [
    "df.tail()"
   ]
  },
  {
   "cell_type": "code",
   "execution_count": 21,
   "id": "0bd4f60f",
   "metadata": {},
   "outputs": [],
   "source": [
    "from sklearn.model_selection import train_test_split\n",
    "from sklearn import preprocessing\n",
    "from sklearn.feature_extraction.text import TfidfVectorizer\n",
    "y=df['INTENTS']\n",
    "X=df['Transliteration']\n",
    "X_train, X_test, y_train, y_test = train_test_split(X, y, test_size=0.2)\n",
    "\n",
    "# Encoding y.\n",
    "# Encoder = preprocessing.LabelEncoder()\n",
    "# y_train = Encoder.fit_transform(y_train)\n",
    "# y_test = Encoder.fit_transform(y_test)\n",
    "# all_sentences = df['Transliteration'].tolist()\n",
    "# # Finding TF-IDF for each word.\n",
    "# Tfidf_vect = TfidfVectorizer(max_features=5000)\n",
    "# Tfidf_vect.fit(all_sentences)\n",
    "# X_train_Tfidf = Tfidf_vect.transform(X_train)\n",
    "# X_test_Tfidf = Tfidf_vect.transform(X_test)"
   ]
  },
  {
   "cell_type": "code",
   "execution_count": 22,
   "id": "73423c7b",
   "metadata": {},
   "outputs": [
    {
     "data": {
      "text/html": [
       "<style>#sk-container-id-7 {color: black;}#sk-container-id-7 pre{padding: 0;}#sk-container-id-7 div.sk-toggleable {background-color: white;}#sk-container-id-7 label.sk-toggleable__label {cursor: pointer;display: block;width: 100%;margin-bottom: 0;padding: 0.3em;box-sizing: border-box;text-align: center;}#sk-container-id-7 label.sk-toggleable__label-arrow:before {content: \"▸\";float: left;margin-right: 0.25em;color: #696969;}#sk-container-id-7 label.sk-toggleable__label-arrow:hover:before {color: black;}#sk-container-id-7 div.sk-estimator:hover label.sk-toggleable__label-arrow:before {color: black;}#sk-container-id-7 div.sk-toggleable__content {max-height: 0;max-width: 0;overflow: hidden;text-align: left;background-color: #f0f8ff;}#sk-container-id-7 div.sk-toggleable__content pre {margin: 0.2em;color: black;border-radius: 0.25em;background-color: #f0f8ff;}#sk-container-id-7 input.sk-toggleable__control:checked~div.sk-toggleable__content {max-height: 200px;max-width: 100%;overflow: auto;}#sk-container-id-7 input.sk-toggleable__control:checked~label.sk-toggleable__label-arrow:before {content: \"▾\";}#sk-container-id-7 div.sk-estimator input.sk-toggleable__control:checked~label.sk-toggleable__label {background-color: #d4ebff;}#sk-container-id-7 div.sk-label input.sk-toggleable__control:checked~label.sk-toggleable__label {background-color: #d4ebff;}#sk-container-id-7 input.sk-hidden--visually {border: 0;clip: rect(1px 1px 1px 1px);clip: rect(1px, 1px, 1px, 1px);height: 1px;margin: -1px;overflow: hidden;padding: 0;position: absolute;width: 1px;}#sk-container-id-7 div.sk-estimator {font-family: monospace;background-color: #f0f8ff;border: 1px dotted black;border-radius: 0.25em;box-sizing: border-box;margin-bottom: 0.5em;}#sk-container-id-7 div.sk-estimator:hover {background-color: #d4ebff;}#sk-container-id-7 div.sk-parallel-item::after {content: \"\";width: 100%;border-bottom: 1px solid gray;flex-grow: 1;}#sk-container-id-7 div.sk-label:hover label.sk-toggleable__label {background-color: #d4ebff;}#sk-container-id-7 div.sk-serial::before {content: \"\";position: absolute;border-left: 1px solid gray;box-sizing: border-box;top: 0;bottom: 0;left: 50%;z-index: 0;}#sk-container-id-7 div.sk-serial {display: flex;flex-direction: column;align-items: center;background-color: white;padding-right: 0.2em;padding-left: 0.2em;position: relative;}#sk-container-id-7 div.sk-item {position: relative;z-index: 1;}#sk-container-id-7 div.sk-parallel {display: flex;align-items: stretch;justify-content: center;background-color: white;position: relative;}#sk-container-id-7 div.sk-item::before, #sk-container-id-7 div.sk-parallel-item::before {content: \"\";position: absolute;border-left: 1px solid gray;box-sizing: border-box;top: 0;bottom: 0;left: 50%;z-index: -1;}#sk-container-id-7 div.sk-parallel-item {display: flex;flex-direction: column;z-index: 1;position: relative;background-color: white;}#sk-container-id-7 div.sk-parallel-item:first-child::after {align-self: flex-end;width: 50%;}#sk-container-id-7 div.sk-parallel-item:last-child::after {align-self: flex-start;width: 50%;}#sk-container-id-7 div.sk-parallel-item:only-child::after {width: 0;}#sk-container-id-7 div.sk-dashed-wrapped {border: 1px dashed gray;margin: 0 0.4em 0.5em 0.4em;box-sizing: border-box;padding-bottom: 0.4em;background-color: white;}#sk-container-id-7 div.sk-label label {font-family: monospace;font-weight: bold;display: inline-block;line-height: 1.2em;}#sk-container-id-7 div.sk-label-container {text-align: center;}#sk-container-id-7 div.sk-container {/* jupyter's `normalize.less` sets `[hidden] { display: none; }` but bootstrap.min.css set `[hidden] { display: none !important; }` so we also need the `!important` here to be able to override the default hidden behavior on the sphinx rendered scikit-learn.org. See: https://github.com/scikit-learn/scikit-learn/issues/21755 */display: inline-block !important;position: relative;}#sk-container-id-7 div.sk-text-repr-fallback {display: none;}</style><div id=\"sk-container-id-7\" class=\"sk-top-container\"><div class=\"sk-text-repr-fallback\"><pre>TfidfVectorizer(max_features=15000, ngram_range=(1, 2))</pre><b>In a Jupyter environment, please rerun this cell to show the HTML representation or trust the notebook. <br />On GitHub, the HTML representation is unable to render, please try loading this page with nbviewer.org.</b></div><div class=\"sk-container\" hidden><div class=\"sk-item\"><div class=\"sk-estimator sk-toggleable\"><input class=\"sk-toggleable__control sk-hidden--visually\" id=\"sk-estimator-id-17\" type=\"checkbox\" checked><label for=\"sk-estimator-id-17\" class=\"sk-toggleable__label sk-toggleable__label-arrow\">TfidfVectorizer</label><div class=\"sk-toggleable__content\"><pre>TfidfVectorizer(max_features=15000, ngram_range=(1, 2))</pre></div></div></div></div></div>"
      ],
      "text/plain": [
       "TfidfVectorizer(max_features=15000, ngram_range=(1, 2))"
      ]
     },
     "execution_count": 22,
     "metadata": {},
     "output_type": "execute_result"
    }
   ],
   "source": [
    "from sklearn.feature_extraction.text import TfidfVectorizer\n",
    "corpus = X_train\n",
    "# Initizalize the vectorizer with max nr words and ngrams (1: single words, 2: two words in a row)\n",
    "vectorizer_tfidf = TfidfVectorizer(max_features=15000, ngram_range=(1,2))\n",
    "# Fit the vectorizer to the training data\n",
    "vectorizer_tfidf.fit(corpus)\n",
    "TfidfVectorizer(max_features=15000, ngram_range=(1, 2))"
   ]
  },
  {
   "cell_type": "code",
   "execution_count": 23,
   "id": "de348729",
   "metadata": {},
   "outputs": [
    {
     "data": {
      "text/html": [
       "<style>#sk-container-id-8 {color: black;}#sk-container-id-8 pre{padding: 0;}#sk-container-id-8 div.sk-toggleable {background-color: white;}#sk-container-id-8 label.sk-toggleable__label {cursor: pointer;display: block;width: 100%;margin-bottom: 0;padding: 0.3em;box-sizing: border-box;text-align: center;}#sk-container-id-8 label.sk-toggleable__label-arrow:before {content: \"▸\";float: left;margin-right: 0.25em;color: #696969;}#sk-container-id-8 label.sk-toggleable__label-arrow:hover:before {color: black;}#sk-container-id-8 div.sk-estimator:hover label.sk-toggleable__label-arrow:before {color: black;}#sk-container-id-8 div.sk-toggleable__content {max-height: 0;max-width: 0;overflow: hidden;text-align: left;background-color: #f0f8ff;}#sk-container-id-8 div.sk-toggleable__content pre {margin: 0.2em;color: black;border-radius: 0.25em;background-color: #f0f8ff;}#sk-container-id-8 input.sk-toggleable__control:checked~div.sk-toggleable__content {max-height: 200px;max-width: 100%;overflow: auto;}#sk-container-id-8 input.sk-toggleable__control:checked~label.sk-toggleable__label-arrow:before {content: \"▾\";}#sk-container-id-8 div.sk-estimator input.sk-toggleable__control:checked~label.sk-toggleable__label {background-color: #d4ebff;}#sk-container-id-8 div.sk-label input.sk-toggleable__control:checked~label.sk-toggleable__label {background-color: #d4ebff;}#sk-container-id-8 input.sk-hidden--visually {border: 0;clip: rect(1px 1px 1px 1px);clip: rect(1px, 1px, 1px, 1px);height: 1px;margin: -1px;overflow: hidden;padding: 0;position: absolute;width: 1px;}#sk-container-id-8 div.sk-estimator {font-family: monospace;background-color: #f0f8ff;border: 1px dotted black;border-radius: 0.25em;box-sizing: border-box;margin-bottom: 0.5em;}#sk-container-id-8 div.sk-estimator:hover {background-color: #d4ebff;}#sk-container-id-8 div.sk-parallel-item::after {content: \"\";width: 100%;border-bottom: 1px solid gray;flex-grow: 1;}#sk-container-id-8 div.sk-label:hover label.sk-toggleable__label {background-color: #d4ebff;}#sk-container-id-8 div.sk-serial::before {content: \"\";position: absolute;border-left: 1px solid gray;box-sizing: border-box;top: 0;bottom: 0;left: 50%;z-index: 0;}#sk-container-id-8 div.sk-serial {display: flex;flex-direction: column;align-items: center;background-color: white;padding-right: 0.2em;padding-left: 0.2em;position: relative;}#sk-container-id-8 div.sk-item {position: relative;z-index: 1;}#sk-container-id-8 div.sk-parallel {display: flex;align-items: stretch;justify-content: center;background-color: white;position: relative;}#sk-container-id-8 div.sk-item::before, #sk-container-id-8 div.sk-parallel-item::before {content: \"\";position: absolute;border-left: 1px solid gray;box-sizing: border-box;top: 0;bottom: 0;left: 50%;z-index: -1;}#sk-container-id-8 div.sk-parallel-item {display: flex;flex-direction: column;z-index: 1;position: relative;background-color: white;}#sk-container-id-8 div.sk-parallel-item:first-child::after {align-self: flex-end;width: 50%;}#sk-container-id-8 div.sk-parallel-item:last-child::after {align-self: flex-start;width: 50%;}#sk-container-id-8 div.sk-parallel-item:only-child::after {width: 0;}#sk-container-id-8 div.sk-dashed-wrapped {border: 1px dashed gray;margin: 0 0.4em 0.5em 0.4em;box-sizing: border-box;padding-bottom: 0.4em;background-color: white;}#sk-container-id-8 div.sk-label label {font-family: monospace;font-weight: bold;display: inline-block;line-height: 1.2em;}#sk-container-id-8 div.sk-label-container {text-align: center;}#sk-container-id-8 div.sk-container {/* jupyter's `normalize.less` sets `[hidden] { display: none; }` but bootstrap.min.css set `[hidden] { display: none !important; }` so we also need the `!important` here to be able to override the default hidden behavior on the sphinx rendered scikit-learn.org. See: https://github.com/scikit-learn/scikit-learn/issues/21755 */display: inline-block !important;position: relative;}#sk-container-id-8 div.sk-text-repr-fallback {display: none;}</style><div id=\"sk-container-id-8\" class=\"sk-top-container\"><div class=\"sk-text-repr-fallback\"><pre>Pipeline(steps=[(&#x27;vectorizer&#x27;,\n",
       "                 TfidfVectorizer(max_features=15000, ngram_range=(1, 2))),\n",
       "                (&#x27;classifier&#x27;, LogisticRegression())])</pre><b>In a Jupyter environment, please rerun this cell to show the HTML representation or trust the notebook. <br />On GitHub, the HTML representation is unable to render, please try loading this page with nbviewer.org.</b></div><div class=\"sk-container\" hidden><div class=\"sk-item sk-dashed-wrapped\"><div class=\"sk-label-container\"><div class=\"sk-label sk-toggleable\"><input class=\"sk-toggleable__control sk-hidden--visually\" id=\"sk-estimator-id-18\" type=\"checkbox\" ><label for=\"sk-estimator-id-18\" class=\"sk-toggleable__label sk-toggleable__label-arrow\">Pipeline</label><div class=\"sk-toggleable__content\"><pre>Pipeline(steps=[(&#x27;vectorizer&#x27;,\n",
       "                 TfidfVectorizer(max_features=15000, ngram_range=(1, 2))),\n",
       "                (&#x27;classifier&#x27;, LogisticRegression())])</pre></div></div></div><div class=\"sk-serial\"><div class=\"sk-item\"><div class=\"sk-estimator sk-toggleable\"><input class=\"sk-toggleable__control sk-hidden--visually\" id=\"sk-estimator-id-19\" type=\"checkbox\" ><label for=\"sk-estimator-id-19\" class=\"sk-toggleable__label sk-toggleable__label-arrow\">TfidfVectorizer</label><div class=\"sk-toggleable__content\"><pre>TfidfVectorizer(max_features=15000, ngram_range=(1, 2))</pre></div></div></div><div class=\"sk-item\"><div class=\"sk-estimator sk-toggleable\"><input class=\"sk-toggleable__control sk-hidden--visually\" id=\"sk-estimator-id-20\" type=\"checkbox\" ><label for=\"sk-estimator-id-20\" class=\"sk-toggleable__label sk-toggleable__label-arrow\">LogisticRegression</label><div class=\"sk-toggleable__content\"><pre>LogisticRegression()</pre></div></div></div></div></div></div></div>"
      ],
      "text/plain": [
       "Pipeline(steps=[('vectorizer',\n",
       "                 TfidfVectorizer(max_features=15000, ngram_range=(1, 2))),\n",
       "                ('classifier', LogisticRegression())])"
      ]
     },
     "execution_count": 23,
     "metadata": {},
     "output_type": "execute_result"
    }
   ],
   "source": [
    "from sklearn.linear_model import LogisticRegression\n",
    "from sklearn.pipeline import Pipeline\n",
    "import datetime\n",
    "classifier_tfidf = LogisticRegression()\n",
    "model_tfidf = Pipeline([(\"vectorizer\", vectorizer_tfidf), (\"classifier\", classifier_tfidf)])\n",
    "model_tfidf.fit(X_train, y_train)"
   ]
  },
  {
   "cell_type": "code",
   "execution_count": 24,
   "id": "e108505e",
   "metadata": {},
   "outputs": [
    {
     "name": "stdout",
     "output_type": "stream",
     "text": [
      "Accuracy Training data: 92.4%\n",
      "Accuracy Test data: 89.8%\n"
     ]
    }
   ],
   "source": [
    "from sklearn.metrics import accuracy_score\n",
    "predicted_train_tfidf = model_tfidf.predict(X_train)\n",
    "accuracy_train_tfidf = accuracy_score(y_train, predicted_train_tfidf)\n",
    "print('Accuracy Training data: {:.1%}'.format(accuracy_train_tfidf))\n",
    "\n",
    "predicted_test_tfidf = model_tfidf.predict(X_test)\n",
    "accuracy_test_tfidf = accuracy_score(y_test, predicted_test_tfidf)\n",
    "accuracy_tfidf = accuracy_test_tfidf\n",
    "print('Accuracy Test data: {:.1%}'.format(accuracy_test_tfidf))\n",
    "\n"
   ]
  },
  {
   "cell_type": "code",
   "execution_count": 25,
   "id": "c1095855",
   "metadata": {},
   "outputs": [
    {
     "data": {
      "text/html": [
       "<style>#sk-container-id-9 {color: black;}#sk-container-id-9 pre{padding: 0;}#sk-container-id-9 div.sk-toggleable {background-color: white;}#sk-container-id-9 label.sk-toggleable__label {cursor: pointer;display: block;width: 100%;margin-bottom: 0;padding: 0.3em;box-sizing: border-box;text-align: center;}#sk-container-id-9 label.sk-toggleable__label-arrow:before {content: \"▸\";float: left;margin-right: 0.25em;color: #696969;}#sk-container-id-9 label.sk-toggleable__label-arrow:hover:before {color: black;}#sk-container-id-9 div.sk-estimator:hover label.sk-toggleable__label-arrow:before {color: black;}#sk-container-id-9 div.sk-toggleable__content {max-height: 0;max-width: 0;overflow: hidden;text-align: left;background-color: #f0f8ff;}#sk-container-id-9 div.sk-toggleable__content pre {margin: 0.2em;color: black;border-radius: 0.25em;background-color: #f0f8ff;}#sk-container-id-9 input.sk-toggleable__control:checked~div.sk-toggleable__content {max-height: 200px;max-width: 100%;overflow: auto;}#sk-container-id-9 input.sk-toggleable__control:checked~label.sk-toggleable__label-arrow:before {content: \"▾\";}#sk-container-id-9 div.sk-estimator input.sk-toggleable__control:checked~label.sk-toggleable__label {background-color: #d4ebff;}#sk-container-id-9 div.sk-label input.sk-toggleable__control:checked~label.sk-toggleable__label {background-color: #d4ebff;}#sk-container-id-9 input.sk-hidden--visually {border: 0;clip: rect(1px 1px 1px 1px);clip: rect(1px, 1px, 1px, 1px);height: 1px;margin: -1px;overflow: hidden;padding: 0;position: absolute;width: 1px;}#sk-container-id-9 div.sk-estimator {font-family: monospace;background-color: #f0f8ff;border: 1px dotted black;border-radius: 0.25em;box-sizing: border-box;margin-bottom: 0.5em;}#sk-container-id-9 div.sk-estimator:hover {background-color: #d4ebff;}#sk-container-id-9 div.sk-parallel-item::after {content: \"\";width: 100%;border-bottom: 1px solid gray;flex-grow: 1;}#sk-container-id-9 div.sk-label:hover label.sk-toggleable__label {background-color: #d4ebff;}#sk-container-id-9 div.sk-serial::before {content: \"\";position: absolute;border-left: 1px solid gray;box-sizing: border-box;top: 0;bottom: 0;left: 50%;z-index: 0;}#sk-container-id-9 div.sk-serial {display: flex;flex-direction: column;align-items: center;background-color: white;padding-right: 0.2em;padding-left: 0.2em;position: relative;}#sk-container-id-9 div.sk-item {position: relative;z-index: 1;}#sk-container-id-9 div.sk-parallel {display: flex;align-items: stretch;justify-content: center;background-color: white;position: relative;}#sk-container-id-9 div.sk-item::before, #sk-container-id-9 div.sk-parallel-item::before {content: \"\";position: absolute;border-left: 1px solid gray;box-sizing: border-box;top: 0;bottom: 0;left: 50%;z-index: -1;}#sk-container-id-9 div.sk-parallel-item {display: flex;flex-direction: column;z-index: 1;position: relative;background-color: white;}#sk-container-id-9 div.sk-parallel-item:first-child::after {align-self: flex-end;width: 50%;}#sk-container-id-9 div.sk-parallel-item:last-child::after {align-self: flex-start;width: 50%;}#sk-container-id-9 div.sk-parallel-item:only-child::after {width: 0;}#sk-container-id-9 div.sk-dashed-wrapped {border: 1px dashed gray;margin: 0 0.4em 0.5em 0.4em;box-sizing: border-box;padding-bottom: 0.4em;background-color: white;}#sk-container-id-9 div.sk-label label {font-family: monospace;font-weight: bold;display: inline-block;line-height: 1.2em;}#sk-container-id-9 div.sk-label-container {text-align: center;}#sk-container-id-9 div.sk-container {/* jupyter's `normalize.less` sets `[hidden] { display: none; }` but bootstrap.min.css set `[hidden] { display: none !important; }` so we also need the `!important` here to be able to override the default hidden behavior on the sphinx rendered scikit-learn.org. See: https://github.com/scikit-learn/scikit-learn/issues/21755 */display: inline-block !important;position: relative;}#sk-container-id-9 div.sk-text-repr-fallback {display: none;}</style><div id=\"sk-container-id-9\" class=\"sk-top-container\"><div class=\"sk-text-repr-fallback\"><pre>Pipeline(steps=[(&#x27;vectorizer&#x27;,\n",
       "                 TfidfVectorizer(max_features=15000, ngram_range=(1, 2))),\n",
       "                (&#x27;classifier&#x27;, MultinomialNB())])</pre><b>In a Jupyter environment, please rerun this cell to show the HTML representation or trust the notebook. <br />On GitHub, the HTML representation is unable to render, please try loading this page with nbviewer.org.</b></div><div class=\"sk-container\" hidden><div class=\"sk-item sk-dashed-wrapped\"><div class=\"sk-label-container\"><div class=\"sk-label sk-toggleable\"><input class=\"sk-toggleable__control sk-hidden--visually\" id=\"sk-estimator-id-21\" type=\"checkbox\" ><label for=\"sk-estimator-id-21\" class=\"sk-toggleable__label sk-toggleable__label-arrow\">Pipeline</label><div class=\"sk-toggleable__content\"><pre>Pipeline(steps=[(&#x27;vectorizer&#x27;,\n",
       "                 TfidfVectorizer(max_features=15000, ngram_range=(1, 2))),\n",
       "                (&#x27;classifier&#x27;, MultinomialNB())])</pre></div></div></div><div class=\"sk-serial\"><div class=\"sk-item\"><div class=\"sk-estimator sk-toggleable\"><input class=\"sk-toggleable__control sk-hidden--visually\" id=\"sk-estimator-id-22\" type=\"checkbox\" ><label for=\"sk-estimator-id-22\" class=\"sk-toggleable__label sk-toggleable__label-arrow\">TfidfVectorizer</label><div class=\"sk-toggleable__content\"><pre>TfidfVectorizer(max_features=15000, ngram_range=(1, 2))</pre></div></div></div><div class=\"sk-item\"><div class=\"sk-estimator sk-toggleable\"><input class=\"sk-toggleable__control sk-hidden--visually\" id=\"sk-estimator-id-23\" type=\"checkbox\" ><label for=\"sk-estimator-id-23\" class=\"sk-toggleable__label sk-toggleable__label-arrow\">MultinomialNB</label><div class=\"sk-toggleable__content\"><pre>MultinomialNB()</pre></div></div></div></div></div></div></div>"
      ],
      "text/plain": [
       "Pipeline(steps=[('vectorizer',\n",
       "                 TfidfVectorizer(max_features=15000, ngram_range=(1, 2))),\n",
       "                ('classifier', MultinomialNB())])"
      ]
     },
     "execution_count": 25,
     "metadata": {},
     "output_type": "execute_result"
    }
   ],
   "source": [
    "from sklearn import svm\n",
    "from sklearn.naive_bayes import MultinomialNB\n",
    "from sklearn.linear_model import LogisticRegression\n",
    "from sklearn.linear_model import SGDClassifier\n",
    "from sklearn.tree import DecisionTreeClassifier\n",
    "from sklearn.ensemble import RandomForestClassifier\n",
    "from sklearn.linear_model import LogisticRegression\n",
    "from sklearn.pipeline import Pipeline\n",
    "import datetime\n",
    "classifier_tfidf = MultinomialNB()\n",
    "model_tfidf = Pipeline([(\"vectorizer\", vectorizer_tfidf), (\"classifier\", classifier_tfidf)])\n",
    "model_tfidf.fit(X_train, y_train)"
   ]
  },
  {
   "cell_type": "code",
   "execution_count": 26,
   "id": "d1bb9711",
   "metadata": {},
   "outputs": [
    {
     "name": "stdout",
     "output_type": "stream",
     "text": [
      "Accuracy Training data: 83.7%\n",
      "Accuracy Test data: 82.6%\n"
     ]
    }
   ],
   "source": [
    "from sklearn.metrics import accuracy_score\n",
    "predicted_train_tfidf = model_tfidf.predict(X_train)\n",
    "accuracy_train_tfidf = accuracy_score(y_train, predicted_train_tfidf)\n",
    "print('Accuracy Training data: {:.1%}'.format(accuracy_train_tfidf))\n",
    "\n",
    "predicted_test_tfidf = model_tfidf.predict(X_test)\n",
    "accuracy_test_tfidf = accuracy_score(y_test, predicted_test_tfidf)\n",
    "accuracy_tfidf = accuracy_test_tfidf\n",
    "print('Accuracy Test data: {:.1%}'.format(accuracy_test_tfidf))\n",
    "\n"
   ]
  },
  {
   "cell_type": "code",
   "execution_count": 27,
   "id": "eb8c8101",
   "metadata": {},
   "outputs": [
    {
     "data": {
      "text/html": [
       "<style>#sk-container-id-10 {color: black;}#sk-container-id-10 pre{padding: 0;}#sk-container-id-10 div.sk-toggleable {background-color: white;}#sk-container-id-10 label.sk-toggleable__label {cursor: pointer;display: block;width: 100%;margin-bottom: 0;padding: 0.3em;box-sizing: border-box;text-align: center;}#sk-container-id-10 label.sk-toggleable__label-arrow:before {content: \"▸\";float: left;margin-right: 0.25em;color: #696969;}#sk-container-id-10 label.sk-toggleable__label-arrow:hover:before {color: black;}#sk-container-id-10 div.sk-estimator:hover label.sk-toggleable__label-arrow:before {color: black;}#sk-container-id-10 div.sk-toggleable__content {max-height: 0;max-width: 0;overflow: hidden;text-align: left;background-color: #f0f8ff;}#sk-container-id-10 div.sk-toggleable__content pre {margin: 0.2em;color: black;border-radius: 0.25em;background-color: #f0f8ff;}#sk-container-id-10 input.sk-toggleable__control:checked~div.sk-toggleable__content {max-height: 200px;max-width: 100%;overflow: auto;}#sk-container-id-10 input.sk-toggleable__control:checked~label.sk-toggleable__label-arrow:before {content: \"▾\";}#sk-container-id-10 div.sk-estimator input.sk-toggleable__control:checked~label.sk-toggleable__label {background-color: #d4ebff;}#sk-container-id-10 div.sk-label input.sk-toggleable__control:checked~label.sk-toggleable__label {background-color: #d4ebff;}#sk-container-id-10 input.sk-hidden--visually {border: 0;clip: rect(1px 1px 1px 1px);clip: rect(1px, 1px, 1px, 1px);height: 1px;margin: -1px;overflow: hidden;padding: 0;position: absolute;width: 1px;}#sk-container-id-10 div.sk-estimator {font-family: monospace;background-color: #f0f8ff;border: 1px dotted black;border-radius: 0.25em;box-sizing: border-box;margin-bottom: 0.5em;}#sk-container-id-10 div.sk-estimator:hover {background-color: #d4ebff;}#sk-container-id-10 div.sk-parallel-item::after {content: \"\";width: 100%;border-bottom: 1px solid gray;flex-grow: 1;}#sk-container-id-10 div.sk-label:hover label.sk-toggleable__label {background-color: #d4ebff;}#sk-container-id-10 div.sk-serial::before {content: \"\";position: absolute;border-left: 1px solid gray;box-sizing: border-box;top: 0;bottom: 0;left: 50%;z-index: 0;}#sk-container-id-10 div.sk-serial {display: flex;flex-direction: column;align-items: center;background-color: white;padding-right: 0.2em;padding-left: 0.2em;position: relative;}#sk-container-id-10 div.sk-item {position: relative;z-index: 1;}#sk-container-id-10 div.sk-parallel {display: flex;align-items: stretch;justify-content: center;background-color: white;position: relative;}#sk-container-id-10 div.sk-item::before, #sk-container-id-10 div.sk-parallel-item::before {content: \"\";position: absolute;border-left: 1px solid gray;box-sizing: border-box;top: 0;bottom: 0;left: 50%;z-index: -1;}#sk-container-id-10 div.sk-parallel-item {display: flex;flex-direction: column;z-index: 1;position: relative;background-color: white;}#sk-container-id-10 div.sk-parallel-item:first-child::after {align-self: flex-end;width: 50%;}#sk-container-id-10 div.sk-parallel-item:last-child::after {align-self: flex-start;width: 50%;}#sk-container-id-10 div.sk-parallel-item:only-child::after {width: 0;}#sk-container-id-10 div.sk-dashed-wrapped {border: 1px dashed gray;margin: 0 0.4em 0.5em 0.4em;box-sizing: border-box;padding-bottom: 0.4em;background-color: white;}#sk-container-id-10 div.sk-label label {font-family: monospace;font-weight: bold;display: inline-block;line-height: 1.2em;}#sk-container-id-10 div.sk-label-container {text-align: center;}#sk-container-id-10 div.sk-container {/* jupyter's `normalize.less` sets `[hidden] { display: none; }` but bootstrap.min.css set `[hidden] { display: none !important; }` so we also need the `!important` here to be able to override the default hidden behavior on the sphinx rendered scikit-learn.org. See: https://github.com/scikit-learn/scikit-learn/issues/21755 */display: inline-block !important;position: relative;}#sk-container-id-10 div.sk-text-repr-fallback {display: none;}</style><div id=\"sk-container-id-10\" class=\"sk-top-container\"><div class=\"sk-text-repr-fallback\"><pre>Pipeline(steps=[(&#x27;vectorizer&#x27;,\n",
       "                 TfidfVectorizer(max_features=15000, ngram_range=(1, 2))),\n",
       "                (&#x27;classifier&#x27;,\n",
       "                 SGDClassifier(loss=&#x27;modified_huber&#x27;, random_state=101))])</pre><b>In a Jupyter environment, please rerun this cell to show the HTML representation or trust the notebook. <br />On GitHub, the HTML representation is unable to render, please try loading this page with nbviewer.org.</b></div><div class=\"sk-container\" hidden><div class=\"sk-item sk-dashed-wrapped\"><div class=\"sk-label-container\"><div class=\"sk-label sk-toggleable\"><input class=\"sk-toggleable__control sk-hidden--visually\" id=\"sk-estimator-id-24\" type=\"checkbox\" ><label for=\"sk-estimator-id-24\" class=\"sk-toggleable__label sk-toggleable__label-arrow\">Pipeline</label><div class=\"sk-toggleable__content\"><pre>Pipeline(steps=[(&#x27;vectorizer&#x27;,\n",
       "                 TfidfVectorizer(max_features=15000, ngram_range=(1, 2))),\n",
       "                (&#x27;classifier&#x27;,\n",
       "                 SGDClassifier(loss=&#x27;modified_huber&#x27;, random_state=101))])</pre></div></div></div><div class=\"sk-serial\"><div class=\"sk-item\"><div class=\"sk-estimator sk-toggleable\"><input class=\"sk-toggleable__control sk-hidden--visually\" id=\"sk-estimator-id-25\" type=\"checkbox\" ><label for=\"sk-estimator-id-25\" class=\"sk-toggleable__label sk-toggleable__label-arrow\">TfidfVectorizer</label><div class=\"sk-toggleable__content\"><pre>TfidfVectorizer(max_features=15000, ngram_range=(1, 2))</pre></div></div></div><div class=\"sk-item\"><div class=\"sk-estimator sk-toggleable\"><input class=\"sk-toggleable__control sk-hidden--visually\" id=\"sk-estimator-id-26\" type=\"checkbox\" ><label for=\"sk-estimator-id-26\" class=\"sk-toggleable__label sk-toggleable__label-arrow\">SGDClassifier</label><div class=\"sk-toggleable__content\"><pre>SGDClassifier(loss=&#x27;modified_huber&#x27;, random_state=101)</pre></div></div></div></div></div></div></div>"
      ],
      "text/plain": [
       "Pipeline(steps=[('vectorizer',\n",
       "                 TfidfVectorizer(max_features=15000, ngram_range=(1, 2))),\n",
       "                ('classifier',\n",
       "                 SGDClassifier(loss='modified_huber', random_state=101))])"
      ]
     },
     "execution_count": 27,
     "metadata": {},
     "output_type": "execute_result"
    }
   ],
   "source": [
    "classifier_tfidf = SGDClassifier(loss='modified_huber',shuffle=True,random_state=101)\n",
    "model_tfidf = Pipeline([(\"vectorizer\", vectorizer_tfidf), (\"classifier\", classifier_tfidf)])\n",
    "model_tfidf.fit(X_train, y_train)"
   ]
  },
  {
   "cell_type": "code",
   "execution_count": 28,
   "id": "3bf9e460",
   "metadata": {},
   "outputs": [
    {
     "name": "stdout",
     "output_type": "stream",
     "text": [
      "Accuracy Training data: 99.9%\n",
      "Accuracy Test data: 97.1%\n"
     ]
    }
   ],
   "source": [
    "from sklearn.metrics import accuracy_score\n",
    "predicted_train_tfidf = model_tfidf.predict(X_train)\n",
    "accuracy_train_tfidf = accuracy_score(y_train, predicted_train_tfidf)\n",
    "print('Accuracy Training data: {:.1%}'.format(accuracy_train_tfidf))\n",
    "\n",
    "predicted_test_tfidf = model_tfidf.predict(X_test)\n",
    "accuracy_test_tfidf = accuracy_score(y_test, predicted_test_tfidf)\n",
    "accuracy_tfidf = accuracy_test_tfidf\n",
    "print('Accuracy Test data: {:.1%}'.format(accuracy_test_tfidf))\n",
    "\n"
   ]
  },
  {
   "cell_type": "code",
   "execution_count": 122,
   "id": "e52aa3d8",
   "metadata": {},
   "outputs": [
    {
     "name": "stdout",
     "output_type": "stream",
     "text": [
      "Accuracy Training data: 99.3%\n",
      "['atis_flight' 'atis_flight' 'atis_flight_time' ... 'atis_airline'\n",
      " 'atis_flight' 'atis_flight']\n"
     ]
    },
    {
     "data": {
      "text/plain": [
       "array(['atis_flight', 'atis_flight', 'atis_flight_time', ...,\n",
       "       'atis_airline', 'atis_flight', 'atis_flight'], dtype='<U27')"
      ]
     },
     "execution_count": 122,
     "metadata": {},
     "output_type": "execute_result"
    }
   ],
   "source": [
    "sgd_features = model_tfidf.predict(X)\n",
    "accuracy_train_tfidf = accuracy_score(y, sgd_features)\n",
    "print('Accuracy Training data: {:.1%}'.format(accuracy_train_tfidf))\n",
    "print(sgd_features)\n",
    "\n",
    "sgd_features"
   ]
  },
  {
   "cell_type": "code",
   "execution_count": 47,
   "id": "52c6308b",
   "metadata": {},
   "outputs": [],
   "source": [
    "from sklearn.preprocessing import LabelBinarizer\n",
    "X_tf = df['Transliteration']\n",
    "y_tf_class = df['INTENTS']\n",
    "\n",
    "# Convert labels into a one-hot vector of size 5 (the number of distinct labels)\n",
    "lab = LabelBinarizer()\n",
    "lab.fit(y_tf_class)\n",
    "y_tf = lab.transform(y_tf_class)\n",
    "\n",
    "# Example (you can modify n)\n",
    "# n=100\n",
    "# print('Coding of labels into a one-hot vector: ' + y_tf_class[n] + ' is ', y_tf[n])\n",
    "\n",
    "# Split into training and test data\n",
    "X_tf_train, X_tf_test, y_tf_train, y_tf_test = train_test_split(X_tf, y_tf, test_size=0.3, random_state=42, stratify=df['INTENTS'])"
   ]
  },
  {
   "cell_type": "code",
   "execution_count": 48,
   "id": "7bddd298",
   "metadata": {},
   "outputs": [],
   "source": [
    "import tensorflow\n",
    "corpus = X_tf_train\n",
    "max_words = 1026\n",
    "tokenizer = tensorflow.keras.preprocessing.text.Tokenizer(lower=True, split=' ', num_words=max_words, oov_token=\"<pad>\", filters='!\"#$%&()*+,-./:;<=>?@[\\\\]^_`{|}~\\t\\n')\n",
    "tokenizer.fit_on_texts(corpus)\n",
    "voc = tokenizer.word_index\n",
    "reverse_voc = dict([(value, key) for (key, value) in voc.items()])"
   ]
  },
  {
   "cell_type": "code",
   "execution_count": 49,
   "id": "7228ca5e",
   "metadata": {},
   "outputs": [],
   "source": [
    "max_len = 1000\n",
    "\n",
    "sequences = tokenizer.texts_to_sequences(X_tf_train)\n",
    "X_tf_train_seq = tensorflow.keras.preprocessing.sequence.pad_sequences(sequences, maxlen=max_len)\n",
    "\n",
    "# Apply the same to test data\n",
    "X_tf_test_seq = tensorflow.keras.preprocessing.sequence.pad_sequences(tokenizer.texts_to_sequences(X_tf_test), maxlen=max_len)\n",
    "\n",
    "# n=10 # You can adjust n\n",
    "# print('Shape: ',X_tf_train_seq.shape)\n",
    "# print(100*'-')\n",
    "# print('Example: ',X_tf_train_seq[n,:])"
   ]
  },
  {
   "cell_type": "code",
   "execution_count": 50,
   "id": "2934fc4c",
   "metadata": {},
   "outputs": [],
   "source": [
    "from gensim.models import KeyedVectors\n",
    "\n",
    "# Replace 'path_to_model' with the actual file path to the downloaded Google Word2Vec model.\n",
    "path_to_model = 'GoogleNews-vectors-negative300.bin'\n",
    "w2v  = KeyedVectors.load_word2vec_format(path_to_model, binary=True)"
   ]
  },
  {
   "cell_type": "code",
   "execution_count": 53,
   "id": "364c5646",
   "metadata": {},
   "outputs": [],
   "source": [
    "# from gensim.models import Word2Vec\n",
    "# model = gensim.models.KeyedVectors.load_word2vec_format('./data/GoogleNews-vectors-negative300.bin.gz', binary=True)  \n",
    "# # Example of a word representation:\n",
    "# # w2v['hello'].shape\n",
    "# # (300,)\n",
    "# # Build weights of the embbeddings matrix using w2v\n",
    "import numpy as np\n",
    "emb_matrix=np.zeros((max_words+1, 300))\n",
    "for i in range(max_words):\n",
    "    w = reverse_voc[i+1]\n",
    "    if w in w2v:\n",
    "        emb_matrix[i+1,:] = w2v[w]\n",
    "emb_size = emb_matrix.shape[1]"
   ]
  },
  {
   "cell_type": "code",
   "execution_count": 54,
   "id": "91d2eee7",
   "metadata": {},
   "outputs": [],
   "source": [
    "# Example of a word representation:\n",
    "w2v['hello'].shape\n",
    "(300,)\n",
    "# Build weights of the embbeddings matrix using w2v\n",
    "emb_matrix=np.zeros((max_words+1, 300))\n",
    "for i in range(max_words):\n",
    "    if(i!=1026):w = reverse_voc[i+1]\n",
    "    if w in w2v:\n",
    "        emb_matrix[i+1,:] = w2v[w]\n",
    "emb_size = emb_matrix.shape[1]\n"
   ]
  },
  {
   "cell_type": "code",
   "execution_count": 56,
   "id": "ceb4b110",
   "metadata": {},
   "outputs": [],
   "source": [
    "import keras\n",
    "nr_categories = len(df[\"INTENTS\"].unique())\n",
    "input_ = keras.layers.Input(shape = X_tf_train_seq[0,:].shape,name='input')\n",
    "# Embedding layer (voc size plus un (\"UNK\", word with index 0)), using the pre-trained emb_matrix obtained from Word2Vec\n",
    "x = keras.layers.Embedding(max_words+1,emb_size,weights=[emb_matrix],trainable=False, name='embedding')(input_)\n",
    "x = keras.layers.Bidirectional(keras.layers.LSTM(15,dropout=0.2),name='bidirectional-lstm')(x) # LSTM layer\n",
    "x = keras.layers.Dropout(0.2, name='dropout')(x)\n",
    "x = keras.layers.Dense(64, activation='relu', name='dense')(x)\n",
    "output = keras.layers.Dense(nr_categories,activation='softmax', name='classification')(x)\n",
    "\n",
    "#model = models.Model(input_, output)\n",
    "model = keras.Model(input_, output)\n",
    "opt = keras.optimizers.Adam(learning_rate=0.01, beta_1=0.9)\n",
    "model.compile(optimizer=opt,loss='categorical_crossentropy', metrics=['accuracy'])"
   ]
  },
  {
   "cell_type": "code",
   "execution_count": 57,
   "id": "4d6804f6",
   "metadata": {},
   "outputs": [
    {
     "name": "stdout",
     "output_type": "stream",
     "text": [
      "Epoch 1/10\n",
      "55/55 [==============================] - 44s 761ms/step - loss: 1.2297 - accuracy: 0.7236 - val_loss: 1.0477 - val_accuracy: 0.7373\n",
      "Epoch 2/10\n",
      "55/55 [==============================] - 39s 712ms/step - loss: 0.9952 - accuracy: 0.7440 - val_loss: 0.9072 - val_accuracy: 0.7647\n",
      "Epoch 3/10\n",
      "55/55 [==============================] - 41s 750ms/step - loss: 0.8989 - accuracy: 0.7641 - val_loss: 0.8471 - val_accuracy: 0.7869\n",
      "Epoch 4/10\n",
      "55/55 [==============================] - 43s 793ms/step - loss: 0.8358 - accuracy: 0.7791 - val_loss: 0.7923 - val_accuracy: 0.7902\n",
      "Epoch 5/10\n",
      "55/55 [==============================] - 39s 710ms/step - loss: 0.7825 - accuracy: 0.7866 - val_loss: 0.7483 - val_accuracy: 0.7989\n",
      "Epoch 6/10\n",
      "55/55 [==============================] - 41s 741ms/step - loss: 0.7426 - accuracy: 0.8012 - val_loss: 0.7163 - val_accuracy: 0.8056\n",
      "Epoch 7/10\n",
      "55/55 [==============================] - 41s 754ms/step - loss: 0.6870 - accuracy: 0.8127 - val_loss: 0.7043 - val_accuracy: 0.8190\n",
      "Epoch 8/10\n",
      "55/55 [==============================] - 42s 767ms/step - loss: 0.6674 - accuracy: 0.8222 - val_loss: 0.6701 - val_accuracy: 0.8291\n",
      "Epoch 9/10\n",
      "55/55 [==============================] - 42s 767ms/step - loss: 0.6405 - accuracy: 0.8288 - val_loss: 0.6662 - val_accuracy: 0.8284\n",
      "Epoch 10/10\n",
      "55/55 [==============================] - 42s 768ms/step - loss: 0.6138 - accuracy: 0.8348 - val_loss: 0.6705 - val_accuracy: 0.8318\n"
     ]
    }
   ],
   "source": [
    "history = model.fit(X_tf_train_seq, y_tf_train, batch_size=64, shuffle=True, epochs=10, validation_data=(X_tf_test_seq, y_tf_test))"
   ]
  },
  {
   "cell_type": "code",
   "execution_count": 83,
   "id": "40fe0d80",
   "metadata": {},
   "outputs": [
    {
     "data": {
      "text/plain": [
       "array([[  0,   0,   0, ...,  11,  10,   8],\n",
       "       [  0,   0,   0, ...,  93,  16,  10],\n",
       "       [  0,   0,   0, ..., 436,  10,   8],\n",
       "       ...,\n",
       "       [  0,   0,   0, ..., 285,  10,   8],\n",
       "       [  0,   0,   0, ..., 175,   2,  78],\n",
       "       [  0,   0,   0, ...,  58,  11,   8]])"
      ]
     },
     "execution_count": 83,
     "metadata": {},
     "output_type": "execute_result"
    }
   ],
   "source": [
    "X_tf_train_seq"
   ]
  },
  {
   "cell_type": "code",
   "execution_count": 103,
   "id": "3809f53a",
   "metadata": {},
   "outputs": [],
   "source": [
    "X_new=np.concatenate((X_tf_train_seq,X_tf_test_seq), axis=0)\n",
    "import pandas as pd\n",
    "yhat = model.predict(X_new, verbose=0)"
   ]
  },
  {
   "cell_type": "code",
   "execution_count": 104,
   "id": "38e85de4",
   "metadata": {},
   "outputs": [
    {
     "name": "stdout",
     "output_type": "stream",
     "text": [
      "Unique Labels: ['atis_abbreviation' 'atis_aircraft' 'atis_airfare' 'atis_airline'\n",
      " 'atis_airline#atis_flight_no' 'atis_airport' 'atis_capacity' 'atis_city'\n",
      " 'atis_distance' 'atis_flight' 'atis_flight#atis_airfare' 'atis_flight_no'\n",
      " 'atis_flight_time' 'atis_ground_fare' 'atis_ground_service' 'atis_meal'\n",
      " 'atis_quantity' 'atis_restriction']\n"
     ]
    }
   ],
   "source": [
    "# print(yhat)\n",
    "unique_labels = np.unique(y)  # Assuming y_train is your training labels\n",
    "print(\"Unique Labels:\", unique_labels)"
   ]
  },
  {
   "cell_type": "code",
   "execution_count": 105,
   "id": "9dcea5cc",
   "metadata": {},
   "outputs": [
    {
     "name": "stdout",
     "output_type": "stream",
     "text": [
      "Predicted Labels: [ 9  9  2 ...  9  9 14]\n"
     ]
    }
   ],
   "source": [
    "import numpy as np\n",
    "\n",
    "# Assuming 'probs' is the array of probabilities obtained from model.predict()\n",
    "# It should have shape (num_samples, num_classes)\n",
    "\n",
    "# Get the index of the maximum probability for each sample\n",
    "predicted_labels = np.argmax(yhat, axis=1)\n",
    "\n",
    "# Print or use the predicted labels as needed\n",
    "print(\"Predicted Labels:\", predicted_labels)"
   ]
  },
  {
   "cell_type": "code",
   "execution_count": 106,
   "id": "150d3cde",
   "metadata": {},
   "outputs": [
    {
     "name": "stdout",
     "output_type": "stream",
     "text": [
      "Predicted Class Names: ['atis_flight', 'atis_flight', 'atis_airfare', 'atis_flight', 'atis_flight', 'atis_flight', 'atis_flight', 'atis_ground_service', 'atis_ground_service', 'atis_flight', 'atis_flight', 'atis_flight', 'atis_flight', 'atis_flight', 'atis_flight', 'atis_flight', 'atis_flight', 'atis_flight', 'atis_flight', 'atis_flight', 'atis_flight', 'atis_flight', 'atis_flight', 'atis_flight', 'atis_flight', 'atis_flight', 'atis_flight', 'atis_flight', 'atis_flight', 'atis_flight', 'atis_flight', 'atis_flight', 'atis_flight', 'atis_flight', 'atis_flight', 'atis_flight', 'atis_flight', 'atis_airfare', 'atis_flight', 'atis_abbreviation', 'atis_flight', 'atis_flight', 'atis_flight', 'atis_airfare', 'atis_ground_service', 'atis_airfare', 'atis_flight', 'atis_flight', 'atis_flight', 'atis_flight', 'atis_flight', 'atis_flight', 'atis_flight', 'atis_flight', 'atis_flight', 'atis_ground_service', 'atis_flight', 'atis_flight', 'atis_flight', 'atis_flight', 'atis_flight', 'atis_flight', 'atis_flight', 'atis_flight', 'atis_flight', 'atis_flight', 'atis_ground_service', 'atis_ground_service', 'atis_flight', 'atis_flight', 'atis_flight', 'atis_flight', 'atis_flight', 'atis_flight', 'atis_airfare', 'atis_flight', 'atis_airline', 'atis_ground_service', 'atis_flight', 'atis_flight', 'atis_ground_service', 'atis_flight', 'atis_flight', 'atis_flight', 'atis_ground_service', 'atis_flight', 'atis_flight', 'atis_flight', 'atis_flight', 'atis_flight', 'atis_flight', 'atis_flight', 'atis_flight', 'atis_flight', 'atis_flight', 'atis_flight', 'atis_flight', 'atis_flight', 'atis_flight', 'atis_ground_service', 'atis_flight', 'atis_flight', 'atis_flight', 'atis_flight', 'atis_airfare', 'atis_ground_service', 'atis_flight', 'atis_abbreviation', 'atis_flight', 'atis_flight', 'atis_flight', 'atis_ground_service', 'atis_flight', 'atis_flight', 'atis_ground_service', 'atis_flight', 'atis_flight', 'atis_flight', 'atis_flight', 'atis_ground_service', 'atis_ground_service', 'atis_airfare', 'atis_flight', 'atis_abbreviation', 'atis_aircraft', 'atis_flight', 'atis_ground_service', 'atis_abbreviation', 'atis_airfare', 'atis_flight', 'atis_flight', 'atis_abbreviation', 'atis_aircraft', 'atis_flight', 'atis_flight', 'atis_flight', 'atis_flight', 'atis_flight', 'atis_flight', 'atis_flight', 'atis_flight', 'atis_flight', 'atis_flight', 'atis_abbreviation', 'atis_flight', 'atis_flight', 'atis_flight', 'atis_flight', 'atis_flight', 'atis_flight', 'atis_flight', 'atis_flight', 'atis_abbreviation', 'atis_flight', 'atis_flight', 'atis_flight', 'atis_flight', 'atis_aircraft', 'atis_flight', 'atis_airfare', 'atis_flight', 'atis_ground_service', 'atis_flight', 'atis_flight', 'atis_flight', 'atis_flight', 'atis_flight', 'atis_airfare', 'atis_flight', 'atis_ground_service', 'atis_flight', 'atis_flight', 'atis_abbreviation', 'atis_flight', 'atis_flight', 'atis_flight', 'atis_flight', 'atis_flight', 'atis_flight', 'atis_flight', 'atis_flight', 'atis_flight', 'atis_flight', 'atis_flight', 'atis_flight', 'atis_flight', 'atis_abbreviation', 'atis_flight', 'atis_ground_service', 'atis_flight', 'atis_flight', 'atis_flight', 'atis_flight', 'atis_flight', 'atis_flight', 'atis_ground_service', 'atis_flight', 'atis_flight', 'atis_flight', 'atis_flight', 'atis_flight', 'atis_flight', 'atis_flight', 'atis_flight', 'atis_flight', 'atis_flight', 'atis_abbreviation', 'atis_flight', 'atis_flight', 'atis_flight', 'atis_flight', 'atis_abbreviation', 'atis_flight', 'atis_flight', 'atis_flight', 'atis_flight', 'atis_ground_service', 'atis_flight', 'atis_ground_service', 'atis_flight', 'atis_airfare', 'atis_flight', 'atis_flight', 'atis_flight', 'atis_flight', 'atis_flight', 'atis_flight', 'atis_flight', 'atis_flight', 'atis_flight', 'atis_flight', 'atis_flight', 'atis_flight', 'atis_flight', 'atis_airfare', 'atis_flight', 'atis_flight', 'atis_flight', 'atis_flight', 'atis_flight', 'atis_flight', 'atis_flight', 'atis_flight', 'atis_flight', 'atis_airfare', 'atis_flight', 'atis_flight', 'atis_flight', 'atis_airfare', 'atis_flight', 'atis_flight', 'atis_flight', 'atis_abbreviation', 'atis_flight', 'atis_flight', 'atis_ground_service', 'atis_airfare', 'atis_flight', 'atis_flight', 'atis_flight', 'atis_flight', 'atis_flight', 'atis_flight', 'atis_airfare', 'atis_flight', 'atis_airfare', 'atis_flight', 'atis_flight', 'atis_flight', 'atis_flight', 'atis_flight', 'atis_flight', 'atis_flight', 'atis_flight', 'atis_flight', 'atis_flight', 'atis_flight', 'atis_flight', 'atis_airfare', 'atis_flight', 'atis_flight', 'atis_flight', 'atis_flight', 'atis_airfare', 'atis_flight', 'atis_flight', 'atis_flight', 'atis_flight', 'atis_flight', 'atis_flight', 'atis_flight', 'atis_flight', 'atis_flight', 'atis_flight', 'atis_flight', 'atis_flight', 'atis_aircraft', 'atis_airline', 'atis_flight', 'atis_flight', 'atis_ground_service', 'atis_flight', 'atis_flight', 'atis_flight', 'atis_flight', 'atis_airfare', 'atis_flight', 'atis_airfare', 'atis_flight', 'atis_flight', 'atis_abbreviation', 'atis_flight', 'atis_flight', 'atis_flight', 'atis_flight', 'atis_flight', 'atis_flight', 'atis_flight', 'atis_flight', 'atis_flight', 'atis_abbreviation', 'atis_flight', 'atis_flight', 'atis_flight', 'atis_airfare', 'atis_flight', 'atis_ground_service', 'atis_flight', 'atis_flight', 'atis_flight', 'atis_flight', 'atis_flight', 'atis_flight', 'atis_flight', 'atis_ground_service', 'atis_flight', 'atis_flight', 'atis_flight', 'atis_flight', 'atis_flight', 'atis_flight', 'atis_airfare', 'atis_flight', 'atis_flight', 'atis_abbreviation', 'atis_flight', 'atis_flight', 'atis_ground_service', 'atis_ground_service', 'atis_flight', 'atis_ground_service', 'atis_flight', 'atis_flight', 'atis_flight', 'atis_flight', 'atis_ground_service', 'atis_flight', 'atis_flight', 'atis_flight', 'atis_flight', 'atis_flight', 'atis_flight', 'atis_flight', 'atis_flight', 'atis_flight', 'atis_flight', 'atis_flight', 'atis_flight', 'atis_flight', 'atis_flight', 'atis_airfare', 'atis_flight', 'atis_flight', 'atis_flight', 'atis_flight', 'atis_flight', 'atis_flight', 'atis_flight', 'atis_ground_service', 'atis_airfare', 'atis_flight', 'atis_flight', 'atis_flight', 'atis_flight', 'atis_flight', 'atis_flight', 'atis_flight', 'atis_flight', 'atis_flight', 'atis_flight', 'atis_flight', 'atis_flight', 'atis_flight', 'atis_flight', 'atis_flight', 'atis_abbreviation', 'atis_flight', 'atis_flight', 'atis_flight', 'atis_flight', 'atis_abbreviation', 'atis_flight', 'atis_airfare', 'atis_flight', 'atis_flight', 'atis_airfare', 'atis_flight', 'atis_flight', 'atis_flight', 'atis_flight', 'atis_flight', 'atis_flight', 'atis_flight', 'atis_flight', 'atis_flight', 'atis_ground_service', 'atis_flight', 'atis_flight', 'atis_flight', 'atis_flight', 'atis_flight', 'atis_ground_service', 'atis_flight', 'atis_flight', 'atis_flight', 'atis_flight', 'atis_flight', 'atis_flight', 'atis_flight', 'atis_flight', 'atis_flight', 'atis_flight', 'atis_flight', 'atis_flight', 'atis_flight', 'atis_flight', 'atis_flight', 'atis_flight', 'atis_airline', 'atis_flight', 'atis_flight', 'atis_flight', 'atis_flight', 'atis_flight', 'atis_flight', 'atis_abbreviation', 'atis_flight', 'atis_ground_service', 'atis_airfare', 'atis_flight', 'atis_flight', 'atis_flight', 'atis_flight', 'atis_flight', 'atis_abbreviation', 'atis_flight', 'atis_airfare', 'atis_flight', 'atis_flight', 'atis_flight', 'atis_flight', 'atis_flight', 'atis_flight', 'atis_flight', 'atis_airfare', 'atis_flight', 'atis_flight', 'atis_flight', 'atis_flight', 'atis_flight', 'atis_flight', 'atis_flight', 'atis_flight', 'atis_flight', 'atis_flight', 'atis_flight', 'atis_flight', 'atis_flight', 'atis_flight', 'atis_flight', 'atis_flight', 'atis_flight', 'atis_flight', 'atis_flight', 'atis_flight', 'atis_flight', 'atis_airfare', 'atis_airfare', 'atis_ground_service', 'atis_flight', 'atis_flight', 'atis_flight', 'atis_flight', 'atis_flight', 'atis_flight', 'atis_flight', 'atis_flight', 'atis_flight', 'atis_flight', 'atis_airfare', 'atis_flight', 'atis_flight', 'atis_ground_service', 'atis_abbreviation', 'atis_flight', 'atis_flight', 'atis_ground_service', 'atis_flight', 'atis_flight', 'atis_flight', 'atis_flight', 'atis_flight', 'atis_flight', 'atis_flight', 'atis_flight', 'atis_flight', 'atis_flight', 'atis_flight', 'atis_flight', 'atis_flight', 'atis_flight', 'atis_flight', 'atis_ground_service', 'atis_ground_service', 'atis_flight', 'atis_flight', 'atis_flight', 'atis_flight', 'atis_flight', 'atis_ground_service', 'atis_flight', 'atis_flight', 'atis_flight', 'atis_flight', 'atis_flight', 'atis_flight', 'atis_flight', 'atis_flight', 'atis_flight', 'atis_flight', 'atis_flight', 'atis_ground_service', 'atis_flight', 'atis_ground_service', 'atis_airfare', 'atis_flight', 'atis_flight', 'atis_airfare', 'atis_flight', 'atis_abbreviation', 'atis_flight', 'atis_flight', 'atis_airfare', 'atis_flight', 'atis_flight', 'atis_flight', 'atis_flight', 'atis_ground_service', 'atis_flight', 'atis_flight', 'atis_airfare', 'atis_flight', 'atis_flight', 'atis_flight', 'atis_flight', 'atis_flight', 'atis_flight', 'atis_flight', 'atis_ground_service', 'atis_airfare', 'atis_flight', 'atis_flight', 'atis_flight', 'atis_flight', 'atis_flight', 'atis_ground_service', 'atis_flight', 'atis_flight', 'atis_flight', 'atis_ground_service', 'atis_flight', 'atis_flight', 'atis_airfare', 'atis_flight', 'atis_ground_service', 'atis_flight', 'atis_flight', 'atis_flight', 'atis_flight', 'atis_flight', 'atis_flight', 'atis_flight', 'atis_abbreviation', 'atis_flight', 'atis_flight', 'atis_flight', 'atis_flight', 'atis_flight', 'atis_flight', 'atis_flight', 'atis_flight', 'atis_flight', 'atis_flight', 'atis_ground_service', 'atis_flight', 'atis_flight', 'atis_flight', 'atis_airfare', 'atis_flight', 'atis_flight', 'atis_flight', 'atis_flight', 'atis_flight', 'atis_flight', 'atis_flight', 'atis_flight', 'atis_airfare', 'atis_flight', 'atis_flight', 'atis_abbreviation', 'atis_flight', 'atis_abbreviation', 'atis_flight', 'atis_flight', 'atis_flight', 'atis_flight', 'atis_flight', 'atis_flight', 'atis_flight', 'atis_flight', 'atis_flight', 'atis_flight', 'atis_flight', 'atis_flight', 'atis_ground_service', 'atis_ground_service', 'atis_flight', 'atis_flight', 'atis_flight', 'atis_flight', 'atis_flight', 'atis_ground_service', 'atis_flight', 'atis_flight', 'atis_flight', 'atis_flight', 'atis_flight', 'atis_flight', 'atis_flight', 'atis_flight', 'atis_aircraft', 'atis_flight', 'atis_flight', 'atis_flight', 'atis_flight', 'atis_flight', 'atis_flight', 'atis_flight', 'atis_flight', 'atis_flight', 'atis_flight', 'atis_flight', 'atis_flight', 'atis_flight', 'atis_flight', 'atis_flight', 'atis_flight', 'atis_flight', 'atis_flight', 'atis_flight', 'atis_flight', 'atis_flight', 'atis_flight', 'atis_flight', 'atis_flight', 'atis_flight', 'atis_flight', 'atis_flight', 'atis_flight', 'atis_flight', 'atis_flight', 'atis_flight', 'atis_flight', 'atis_flight', 'atis_flight', 'atis_flight', 'atis_flight', 'atis_flight', 'atis_flight', 'atis_flight', 'atis_flight', 'atis_flight', 'atis_flight', 'atis_flight', 'atis_flight', 'atis_flight', 'atis_flight', 'atis_flight', 'atis_flight', 'atis_flight', 'atis_airfare', 'atis_flight', 'atis_flight', 'atis_flight', 'atis_ground_service', 'atis_flight', 'atis_flight', 'atis_ground_service', 'atis_flight', 'atis_airfare', 'atis_flight', 'atis_flight', 'atis_flight', 'atis_flight', 'atis_flight', 'atis_flight', 'atis_ground_service', 'atis_flight', 'atis_airfare', 'atis_flight', 'atis_airfare', 'atis_abbreviation', 'atis_flight', 'atis_ground_service', 'atis_airfare', 'atis_flight', 'atis_flight', 'atis_flight', 'atis_flight', 'atis_flight', 'atis_flight', 'atis_flight', 'atis_flight', 'atis_flight', 'atis_flight', 'atis_airfare', 'atis_flight', 'atis_flight', 'atis_flight', 'atis_flight', 'atis_flight', 'atis_ground_service', 'atis_flight', 'atis_flight', 'atis_flight', 'atis_flight', 'atis_abbreviation', 'atis_flight', 'atis_flight', 'atis_airfare', 'atis_flight', 'atis_flight', 'atis_flight', 'atis_flight', 'atis_flight', 'atis_flight', 'atis_flight', 'atis_flight', 'atis_flight', 'atis_flight', 'atis_flight', 'atis_flight', 'atis_flight', 'atis_flight', 'atis_flight', 'atis_flight', 'atis_airfare', 'atis_flight', 'atis_flight', 'atis_flight', 'atis_flight', 'atis_flight', 'atis_flight', 'atis_flight', 'atis_ground_service', 'atis_flight', 'atis_flight', 'atis_flight', 'atis_flight', 'atis_flight', 'atis_flight', 'atis_ground_service', 'atis_flight', 'atis_flight', 'atis_airfare', 'atis_flight', 'atis_flight', 'atis_flight', 'atis_flight', 'atis_flight', 'atis_flight', 'atis_flight', 'atis_flight', 'atis_flight', 'atis_flight', 'atis_flight', 'atis_flight', 'atis_flight', 'atis_flight', 'atis_flight', 'atis_flight', 'atis_flight', 'atis_flight', 'atis_flight', 'atis_flight', 'atis_flight', 'atis_airfare', 'atis_flight', 'atis_flight', 'atis_flight', 'atis_flight', 'atis_flight', 'atis_flight', 'atis_flight', 'atis_flight', 'atis_flight', 'atis_flight', 'atis_flight', 'atis_flight', 'atis_flight', 'atis_flight', 'atis_flight', 'atis_flight', 'atis_ground_service', 'atis_flight', 'atis_flight', 'atis_flight', 'atis_flight', 'atis_flight', 'atis_flight', 'atis_flight', 'atis_flight', 'atis_airfare', 'atis_flight', 'atis_airfare', 'atis_flight', 'atis_ground_service', 'atis_flight', 'atis_flight', 'atis_flight', 'atis_flight', 'atis_flight', 'atis_flight', 'atis_flight', 'atis_flight', 'atis_flight', 'atis_flight', 'atis_flight', 'atis_flight', 'atis_ground_service', 'atis_aircraft', 'atis_aircraft', 'atis_flight', 'atis_airfare', 'atis_flight', 'atis_flight', 'atis_flight', 'atis_airfare', 'atis_flight', 'atis_flight', 'atis_flight', 'atis_aircraft', 'atis_flight', 'atis_flight', 'atis_airfare', 'atis_flight', 'atis_flight', 'atis_flight', 'atis_flight', 'atis_airfare', 'atis_ground_service', 'atis_flight', 'atis_airfare', 'atis_ground_service', 'atis_abbreviation', 'atis_flight', 'atis_flight', 'atis_flight', 'atis_airfare', 'atis_ground_service', 'atis_flight', 'atis_ground_service', 'atis_flight', 'atis_flight', 'atis_abbreviation', 'atis_flight', 'atis_flight', 'atis_flight', 'atis_flight', 'atis_flight', 'atis_flight', 'atis_flight', 'atis_flight', 'atis_ground_service', 'atis_abbreviation', 'atis_flight', 'atis_ground_service', 'atis_abbreviation', 'atis_flight', 'atis_flight', 'atis_flight', 'atis_flight', 'atis_ground_service', 'atis_flight', 'atis_flight', 'atis_flight', 'atis_flight', 'atis_flight', 'atis_flight', 'atis_flight', 'atis_flight', 'atis_flight', 'atis_flight', 'atis_flight', 'atis_flight', 'atis_flight', 'atis_airfare', 'atis_flight', 'atis_flight', 'atis_airfare', 'atis_flight', 'atis_flight', 'atis_flight', 'atis_flight', 'atis_flight', 'atis_flight', 'atis_flight', 'atis_flight', 'atis_flight', 'atis_flight', 'atis_ground_service', 'atis_flight', 'atis_flight', 'atis_flight', 'atis_flight', 'atis_flight', 'atis_flight', 'atis_flight', 'atis_flight', 'atis_flight', 'atis_flight', 'atis_flight', 'atis_flight', 'atis_flight', 'atis_ground_service', 'atis_flight', 'atis_flight', 'atis_abbreviation', 'atis_flight', 'atis_flight', 'atis_flight', 'atis_flight', 'atis_flight', 'atis_flight', 'atis_flight', 'atis_flight', 'atis_flight', 'atis_flight', 'atis_flight', 'atis_flight', 'atis_flight', 'atis_flight', 'atis_flight', 'atis_flight', 'atis_flight', 'atis_ground_service', 'atis_flight', 'atis_flight', 'atis_flight', 'atis_flight', 'atis_flight', 'atis_flight', 'atis_flight', 'atis_flight', 'atis_airfare', 'atis_flight', 'atis_flight', 'atis_flight', 'atis_flight', 'atis_flight', 'atis_flight', 'atis_flight', 'atis_airfare', 'atis_airfare', 'atis_flight', 'atis_flight', 'atis_flight', 'atis_airfare', 'atis_flight', 'atis_flight', 'atis_flight', 'atis_flight', 'atis_flight', 'atis_flight', 'atis_flight', 'atis_flight', 'atis_flight', 'atis_flight', 'atis_ground_service', 'atis_flight', 'atis_flight', 'atis_ground_service', 'atis_airfare', 'atis_flight', 'atis_flight', 'atis_flight', 'atis_ground_service', 'atis_flight', 'atis_flight', 'atis_flight', 'atis_ground_service', 'atis_flight', 'atis_flight', 'atis_flight', 'atis_flight', 'atis_flight', 'atis_flight', 'atis_abbreviation', 'atis_ground_service', 'atis_flight', 'atis_flight', 'atis_flight', 'atis_flight', 'atis_flight', 'atis_flight', 'atis_abbreviation', 'atis_flight', 'atis_flight', 'atis_flight', 'atis_flight', 'atis_flight', 'atis_abbreviation', 'atis_flight', 'atis_airfare', 'atis_flight', 'atis_flight', 'atis_airfare', 'atis_flight', 'atis_flight', 'atis_flight', 'atis_abbreviation', 'atis_abbreviation', 'atis_flight', 'atis_flight', 'atis_flight', 'atis_flight', 'atis_flight', 'atis_airfare', 'atis_flight', 'atis_airfare', 'atis_abbreviation', 'atis_flight', 'atis_flight', 'atis_abbreviation', 'atis_flight', 'atis_flight', 'atis_flight', 'atis_airfare', 'atis_flight', 'atis_flight', 'atis_flight', 'atis_flight', 'atis_flight', 'atis_flight', 'atis_abbreviation', 'atis_airfare', 'atis_flight', 'atis_airfare', 'atis_flight', 'atis_flight', 'atis_abbreviation', 'atis_flight', 'atis_flight', 'atis_flight', 'atis_flight', 'atis_flight', 'atis_aircraft', 'atis_airfare', 'atis_flight', 'atis_flight', 'atis_flight', 'atis_ground_service', 'atis_flight', 'atis_flight', 'atis_flight', 'atis_flight', 'atis_flight', 'atis_flight', 'atis_flight', 'atis_flight', 'atis_flight', 'atis_ground_service', 'atis_flight', 'atis_flight', 'atis_airfare', 'atis_flight', 'atis_flight', 'atis_flight', 'atis_flight', 'atis_flight', 'atis_airfare', 'atis_flight', 'atis_ground_service', 'atis_flight', 'atis_flight', 'atis_flight', 'atis_flight', 'atis_flight', 'atis_flight', 'atis_flight', 'atis_flight', 'atis_flight', 'atis_flight', 'atis_flight', 'atis_flight', 'atis_flight', 'atis_flight', 'atis_flight', 'atis_flight', 'atis_flight', 'atis_flight', 'atis_ground_service', 'atis_flight', 'atis_ground_service', 'atis_flight', 'atis_flight', 'atis_flight', 'atis_flight', 'atis_flight', 'atis_flight', 'atis_flight', 'atis_flight', 'atis_ground_service', 'atis_flight', 'atis_flight', 'atis_flight', 'atis_flight', 'atis_flight', 'atis_flight', 'atis_flight', 'atis_abbreviation', 'atis_flight', 'atis_flight', 'atis_ground_service', 'atis_airfare', 'atis_flight', 'atis_airfare', 'atis_flight', 'atis_flight', 'atis_flight', 'atis_flight', 'atis_flight', 'atis_flight', 'atis_flight', 'atis_flight', 'atis_flight', 'atis_flight', 'atis_flight', 'atis_flight', 'atis_flight', 'atis_flight', 'atis_ground_service', 'atis_flight', 'atis_flight', 'atis_flight', 'atis_ground_service', 'atis_flight', 'atis_flight', 'atis_abbreviation', 'atis_flight', 'atis_flight', 'atis_flight', 'atis_flight', 'atis_flight', 'atis_flight', 'atis_airfare', 'atis_flight', 'atis_airfare', 'atis_flight', 'atis_flight', 'atis_flight', 'atis_flight', 'atis_flight', 'atis_flight', 'atis_flight', 'atis_flight', 'atis_flight', 'atis_flight', 'atis_flight', 'atis_flight', 'atis_flight', 'atis_flight', 'atis_flight', 'atis_flight', 'atis_flight', 'atis_flight', 'atis_flight', 'atis_abbreviation', 'atis_abbreviation', 'atis_flight', 'atis_ground_service', 'atis_flight', 'atis_flight', 'atis_flight', 'atis_flight', 'atis_flight', 'atis_flight', 'atis_flight', 'atis_flight', 'atis_flight', 'atis_flight', 'atis_flight', 'atis_flight', 'atis_flight', 'atis_flight', 'atis_flight', 'atis_flight', 'atis_flight', 'atis_flight', 'atis_flight', 'atis_flight', 'atis_flight', 'atis_flight', 'atis_flight', 'atis_flight', 'atis_flight', 'atis_flight', 'atis_flight', 'atis_flight', 'atis_flight', 'atis_flight', 'atis_flight', 'atis_flight', 'atis_ground_service', 'atis_flight', 'atis_flight', 'atis_flight', 'atis_flight', 'atis_flight', 'atis_flight', 'atis_flight', 'atis_flight', 'atis_flight', 'atis_abbreviation', 'atis_flight', 'atis_flight', 'atis_flight', 'atis_flight', 'atis_flight', 'atis_flight', 'atis_flight', 'atis_flight', 'atis_flight', 'atis_flight', 'atis_flight', 'atis_flight', 'atis_flight', 'atis_ground_service', 'atis_flight', 'atis_flight', 'atis_flight', 'atis_flight', 'atis_flight', 'atis_flight', 'atis_ground_service', 'atis_ground_service', 'atis_flight', 'atis_flight', 'atis_flight', 'atis_flight', 'atis_airline', 'atis_abbreviation', 'atis_flight', 'atis_flight', 'atis_flight', 'atis_flight', 'atis_flight', 'atis_flight', 'atis_flight', 'atis_flight', 'atis_flight', 'atis_flight', 'atis_flight', 'atis_airfare', 'atis_flight', 'atis_airfare', 'atis_flight', 'atis_flight', 'atis_airline', 'atis_flight', 'atis_flight', 'atis_flight', 'atis_flight', 'atis_flight', 'atis_flight', 'atis_flight', 'atis_flight', 'atis_abbreviation', 'atis_flight', 'atis_flight', 'atis_flight', 'atis_airfare', 'atis_flight', 'atis_flight', 'atis_flight', 'atis_flight', 'atis_flight', 'atis_flight', 'atis_flight', 'atis_abbreviation', 'atis_abbreviation', 'atis_abbreviation', 'atis_ground_service', 'atis_flight', 'atis_flight', 'atis_airfare', 'atis_flight', 'atis_flight', 'atis_airfare', 'atis_flight', 'atis_flight', 'atis_flight', 'atis_abbreviation', 'atis_flight', 'atis_ground_service', 'atis_airfare', 'atis_flight', 'atis_flight', 'atis_aircraft', 'atis_flight', 'atis_flight', 'atis_flight', 'atis_flight', 'atis_flight', 'atis_flight', 'atis_flight', 'atis_flight', 'atis_flight', 'atis_flight', 'atis_flight', 'atis_flight', 'atis_flight', 'atis_flight', 'atis_flight', 'atis_flight', 'atis_flight', 'atis_airfare', 'atis_flight', 'atis_flight', 'atis_flight', 'atis_flight', 'atis_flight', 'atis_flight', 'atis_flight', 'atis_flight', 'atis_ground_service', 'atis_flight', 'atis_airfare', 'atis_flight', 'atis_airfare', 'atis_flight', 'atis_flight', 'atis_flight', 'atis_flight', 'atis_flight', 'atis_flight', 'atis_flight', 'atis_flight', 'atis_flight', 'atis_flight', 'atis_flight', 'atis_airfare', 'atis_flight', 'atis_flight', 'atis_ground_service', 'atis_airfare', 'atis_flight', 'atis_flight', 'atis_flight', 'atis_ground_service', 'atis_flight', 'atis_flight', 'atis_flight', 'atis_flight', 'atis_flight', 'atis_flight', 'atis_flight', 'atis_aircraft', 'atis_flight', 'atis_flight', 'atis_flight', 'atis_flight', 'atis_flight', 'atis_flight', 'atis_flight', 'atis_flight', 'atis_flight', 'atis_flight', 'atis_flight', 'atis_flight', 'atis_flight', 'atis_flight', 'atis_flight', 'atis_abbreviation', 'atis_flight', 'atis_ground_service', 'atis_flight', 'atis_flight', 'atis_ground_service', 'atis_flight', 'atis_flight', 'atis_flight', 'atis_flight', 'atis_flight', 'atis_flight', 'atis_flight', 'atis_flight', 'atis_flight', 'atis_airfare', 'atis_flight', 'atis_ground_service', 'atis_flight', 'atis_abbreviation', 'atis_flight', 'atis_flight', 'atis_flight', 'atis_flight', 'atis_flight', 'atis_ground_service', 'atis_flight', 'atis_airfare', 'atis_abbreviation', 'atis_flight', 'atis_flight', 'atis_flight', 'atis_flight', 'atis_flight', 'atis_flight', 'atis_ground_service', 'atis_flight', 'atis_flight', 'atis_abbreviation', 'atis_flight', 'atis_ground_service', 'atis_flight', 'atis_flight', 'atis_flight', 'atis_flight', 'atis_ground_service', 'atis_flight', 'atis_flight', 'atis_flight', 'atis_flight', 'atis_flight', 'atis_flight', 'atis_flight', 'atis_flight', 'atis_flight', 'atis_airfare', 'atis_flight', 'atis_flight', 'atis_flight', 'atis_airfare', 'atis_flight', 'atis_flight', 'atis_flight', 'atis_flight', 'atis_flight', 'atis_flight', 'atis_flight', 'atis_flight', 'atis_flight', 'atis_ground_service', 'atis_flight', 'atis_abbreviation', 'atis_flight', 'atis_flight', 'atis_flight', 'atis_airfare', 'atis_flight', 'atis_flight', 'atis_flight', 'atis_flight', 'atis_flight', 'atis_flight', 'atis_flight', 'atis_flight', 'atis_flight', 'atis_ground_service', 'atis_flight', 'atis_flight', 'atis_flight', 'atis_flight', 'atis_flight', 'atis_flight', 'atis_airfare', 'atis_flight', 'atis_flight', 'atis_flight', 'atis_flight', 'atis_flight', 'atis_flight', 'atis_flight', 'atis_flight', 'atis_ground_service', 'atis_ground_service', 'atis_flight', 'atis_ground_service', 'atis_flight', 'atis_ground_service', 'atis_flight', 'atis_flight', 'atis_flight', 'atis_flight', 'atis_flight', 'atis_flight', 'atis_flight', 'atis_flight', 'atis_flight', 'atis_airfare', 'atis_flight', 'atis_flight', 'atis_flight', 'atis_flight', 'atis_airfare', 'atis_flight', 'atis_flight', 'atis_flight', 'atis_flight', 'atis_abbreviation', 'atis_abbreviation', 'atis_flight', 'atis_flight', 'atis_flight', 'atis_flight', 'atis_flight', 'atis_ground_service', 'atis_flight', 'atis_flight', 'atis_flight', 'atis_flight', 'atis_flight', 'atis_flight', 'atis_airfare', 'atis_flight', 'atis_flight', 'atis_flight', 'atis_flight', 'atis_flight', 'atis_aircraft', 'atis_flight', 'atis_ground_service', 'atis_flight', 'atis_ground_service', 'atis_flight', 'atis_flight', 'atis_flight', 'atis_flight', 'atis_flight', 'atis_flight', 'atis_flight', 'atis_flight', 'atis_flight', 'atis_flight', 'atis_flight', 'atis_flight', 'atis_flight', 'atis_flight', 'atis_flight', 'atis_airfare', 'atis_flight', 'atis_airfare', 'atis_flight', 'atis_flight', 'atis_ground_service', 'atis_flight', 'atis_flight', 'atis_flight', 'atis_flight', 'atis_flight', 'atis_flight', 'atis_flight', 'atis_flight', 'atis_flight', 'atis_flight', 'atis_flight', 'atis_ground_service', 'atis_flight', 'atis_flight', 'atis_flight', 'atis_flight', 'atis_flight', 'atis_abbreviation', 'atis_flight', 'atis_flight', 'atis_flight', 'atis_flight', 'atis_abbreviation', 'atis_airfare', 'atis_flight', 'atis_flight', 'atis_flight', 'atis_flight', 'atis_flight', 'atis_flight', 'atis_flight', 'atis_flight', 'atis_flight', 'atis_flight', 'atis_flight', 'atis_aircraft', 'atis_flight', 'atis_flight', 'atis_flight', 'atis_flight', 'atis_flight', 'atis_flight', 'atis_flight', 'atis_ground_service', 'atis_flight', 'atis_flight', 'atis_flight', 'atis_flight', 'atis_flight', 'atis_flight', 'atis_abbreviation', 'atis_flight', 'atis_abbreviation', 'atis_flight', 'atis_flight', 'atis_flight', 'atis_flight', 'atis_flight', 'atis_flight', 'atis_flight', 'atis_flight', 'atis_flight', 'atis_flight', 'atis_flight', 'atis_flight', 'atis_flight', 'atis_flight', 'atis_flight', 'atis_flight', 'atis_flight', 'atis_flight', 'atis_flight', 'atis_flight', 'atis_abbreviation', 'atis_flight', 'atis_flight', 'atis_ground_service', 'atis_flight', 'atis_flight', 'atis_flight', 'atis_flight', 'atis_flight', 'atis_ground_service', 'atis_flight', 'atis_flight', 'atis_flight', 'atis_flight', 'atis_ground_service', 'atis_flight', 'atis_flight', 'atis_flight', 'atis_flight', 'atis_flight', 'atis_flight', 'atis_flight', 'atis_flight', 'atis_flight', 'atis_flight', 'atis_flight', 'atis_flight', 'atis_flight', 'atis_flight', 'atis_flight', 'atis_flight', 'atis_abbreviation', 'atis_ground_service', 'atis_flight', 'atis_flight', 'atis_flight', 'atis_flight', 'atis_flight', 'atis_flight', 'atis_flight', 'atis_ground_service', 'atis_flight', 'atis_flight', 'atis_flight', 'atis_ground_service', 'atis_flight', 'atis_flight', 'atis_flight', 'atis_flight', 'atis_flight', 'atis_flight', 'atis_airfare', 'atis_flight', 'atis_flight', 'atis_flight', 'atis_flight', 'atis_flight', 'atis_flight', 'atis_abbreviation', 'atis_flight', 'atis_flight', 'atis_flight', 'atis_flight', 'atis_ground_service', 'atis_ground_service', 'atis_flight', 'atis_flight', 'atis_flight', 'atis_flight', 'atis_airfare', 'atis_flight', 'atis_flight', 'atis_flight', 'atis_flight', 'atis_flight', 'atis_flight', 'atis_flight', 'atis_ground_service', 'atis_flight', 'atis_abbreviation', 'atis_flight', 'atis_flight', 'atis_flight', 'atis_flight', 'atis_flight', 'atis_abbreviation', 'atis_flight', 'atis_ground_service', 'atis_flight', 'atis_flight', 'atis_flight', 'atis_flight', 'atis_flight', 'atis_flight', 'atis_flight', 'atis_flight', 'atis_flight', 'atis_flight', 'atis_flight', 'atis_flight', 'atis_flight', 'atis_flight', 'atis_flight', 'atis_flight', 'atis_flight', 'atis_flight', 'atis_flight', 'atis_flight', 'atis_flight', 'atis_flight', 'atis_flight', 'atis_airfare', 'atis_airfare', 'atis_aircraft', 'atis_flight', 'atis_flight', 'atis_flight', 'atis_ground_service', 'atis_flight', 'atis_flight', 'atis_flight', 'atis_abbreviation', 'atis_flight', 'atis_flight', 'atis_flight', 'atis_flight', 'atis_flight', 'atis_ground_service', 'atis_flight', 'atis_flight', 'atis_flight', 'atis_flight', 'atis_flight', 'atis_flight', 'atis_flight', 'atis_flight', 'atis_flight', 'atis_flight', 'atis_ground_service', 'atis_flight', 'atis_flight', 'atis_flight', 'atis_flight', 'atis_flight', 'atis_flight', 'atis_flight', 'atis_flight', 'atis_ground_service', 'atis_flight', 'atis_flight', 'atis_flight', 'atis_ground_service', 'atis_ground_service', 'atis_flight', 'atis_flight', 'atis_flight', 'atis_ground_service', 'atis_flight', 'atis_flight', 'atis_airfare', 'atis_flight', 'atis_flight', 'atis_flight', 'atis_flight', 'atis_flight', 'atis_flight', 'atis_flight', 'atis_airfare', 'atis_abbreviation', 'atis_flight', 'atis_flight', 'atis_flight', 'atis_flight', 'atis_flight', 'atis_ground_service', 'atis_flight', 'atis_flight', 'atis_flight', 'atis_flight', 'atis_ground_service', 'atis_flight', 'atis_airfare', 'atis_flight', 'atis_flight', 'atis_flight', 'atis_flight', 'atis_flight', 'atis_flight', 'atis_flight', 'atis_flight', 'atis_ground_service', 'atis_flight', 'atis_flight', 'atis_airfare', 'atis_ground_service', 'atis_flight', 'atis_flight', 'atis_flight', 'atis_flight', 'atis_flight', 'atis_flight', 'atis_flight', 'atis_flight', 'atis_flight', 'atis_aircraft', 'atis_flight', 'atis_airfare', 'atis_ground_service', 'atis_abbreviation', 'atis_airfare', 'atis_flight', 'atis_flight', 'atis_flight', 'atis_flight', 'atis_flight', 'atis_airfare', 'atis_flight', 'atis_abbreviation', 'atis_flight', 'atis_flight', 'atis_airfare', 'atis_flight', 'atis_flight', 'atis_flight', 'atis_airfare', 'atis_flight', 'atis_aircraft', 'atis_ground_service', 'atis_flight', 'atis_flight', 'atis_ground_service', 'atis_flight', 'atis_flight', 'atis_flight', 'atis_flight', 'atis_flight', 'atis_flight', 'atis_flight', 'atis_flight', 'atis_flight', 'atis_flight', 'atis_flight', 'atis_flight', 'atis_flight', 'atis_flight', 'atis_flight', 'atis_flight', 'atis_flight', 'atis_flight', 'atis_flight', 'atis_ground_service', 'atis_ground_service', 'atis_flight', 'atis_flight', 'atis_flight', 'atis_flight', 'atis_flight', 'atis_flight', 'atis_flight', 'atis_flight', 'atis_flight', 'atis_flight', 'atis_flight', 'atis_flight', 'atis_flight', 'atis_flight', 'atis_flight', 'atis_flight', 'atis_flight', 'atis_flight', 'atis_flight', 'atis_flight', 'atis_flight', 'atis_flight', 'atis_flight', 'atis_ground_service', 'atis_flight', 'atis_flight', 'atis_flight', 'atis_airfare', 'atis_flight', 'atis_airfare', 'atis_flight', 'atis_flight', 'atis_airfare', 'atis_abbreviation', 'atis_flight', 'atis_flight', 'atis_flight', 'atis_flight', 'atis_flight', 'atis_flight', 'atis_flight', 'atis_flight', 'atis_flight', 'atis_flight', 'atis_airfare', 'atis_flight', 'atis_abbreviation', 'atis_flight', 'atis_flight', 'atis_ground_service', 'atis_ground_service', 'atis_flight', 'atis_flight', 'atis_flight', 'atis_flight', 'atis_flight', 'atis_ground_service', 'atis_flight', 'atis_flight', 'atis_flight', 'atis_flight', 'atis_flight', 'atis_flight', 'atis_flight', 'atis_flight', 'atis_flight', 'atis_flight', 'atis_flight', 'atis_airfare', 'atis_flight', 'atis_flight', 'atis_flight', 'atis_flight', 'atis_flight', 'atis_flight', 'atis_flight', 'atis_flight', 'atis_flight', 'atis_flight', 'atis_flight', 'atis_flight', 'atis_ground_service', 'atis_flight', 'atis_flight', 'atis_flight', 'atis_flight', 'atis_flight', 'atis_flight', 'atis_flight', 'atis_flight', 'atis_flight', 'atis_flight', 'atis_flight', 'atis_flight', 'atis_flight', 'atis_flight', 'atis_ground_service', 'atis_flight', 'atis_abbreviation', 'atis_flight', 'atis_flight', 'atis_flight', 'atis_flight', 'atis_flight', 'atis_flight', 'atis_flight', 'atis_flight', 'atis_flight', 'atis_flight', 'atis_flight', 'atis_flight', 'atis_flight', 'atis_flight', 'atis_flight', 'atis_flight', 'atis_flight', 'atis_flight', 'atis_flight', 'atis_flight', 'atis_flight', 'atis_flight', 'atis_flight', 'atis_ground_service', 'atis_abbreviation', 'atis_airfare', 'atis_airline', 'atis_flight', 'atis_flight', 'atis_flight', 'atis_flight', 'atis_airfare', 'atis_flight', 'atis_flight', 'atis_flight', 'atis_flight', 'atis_flight', 'atis_flight', 'atis_flight', 'atis_flight', 'atis_flight', 'atis_abbreviation', 'atis_flight', 'atis_flight', 'atis_flight', 'atis_flight', 'atis_flight', 'atis_flight', 'atis_ground_service', 'atis_flight', 'atis_flight', 'atis_flight', 'atis_flight', 'atis_flight', 'atis_flight', 'atis_flight', 'atis_flight', 'atis_flight', 'atis_aircraft', 'atis_flight', 'atis_flight', 'atis_flight', 'atis_flight', 'atis_flight', 'atis_flight', 'atis_flight', 'atis_flight', 'atis_flight', 'atis_flight', 'atis_flight', 'atis_flight', 'atis_flight', 'atis_flight', 'atis_flight', 'atis_flight', 'atis_flight', 'atis_flight', 'atis_airfare', 'atis_flight', 'atis_flight', 'atis_flight', 'atis_flight', 'atis_flight', 'atis_flight', 'atis_flight', 'atis_flight', 'atis_flight', 'atis_flight', 'atis_ground_service', 'atis_flight', 'atis_flight', 'atis_flight', 'atis_flight', 'atis_ground_service', 'atis_airfare', 'atis_flight', 'atis_flight', 'atis_flight', 'atis_flight', 'atis_flight', 'atis_flight', 'atis_flight', 'atis_flight', 'atis_flight', 'atis_ground_service', 'atis_ground_service', 'atis_flight', 'atis_airfare', 'atis_abbreviation', 'atis_flight', 'atis_flight', 'atis_flight', 'atis_flight', 'atis_flight', 'atis_flight', 'atis_flight', 'atis_flight', 'atis_flight', 'atis_flight', 'atis_ground_service', 'atis_flight', 'atis_flight', 'atis_flight', 'atis_flight', 'atis_flight', 'atis_flight', 'atis_flight', 'atis_flight', 'atis_flight', 'atis_ground_service', 'atis_flight', 'atis_flight', 'atis_flight', 'atis_flight', 'atis_flight', 'atis_flight', 'atis_flight', 'atis_flight', 'atis_flight', 'atis_flight', 'atis_flight', 'atis_flight', 'atis_flight', 'atis_flight', 'atis_flight', 'atis_flight', 'atis_flight', 'atis_flight', 'atis_flight', 'atis_flight', 'atis_flight', 'atis_flight', 'atis_flight', 'atis_flight', 'atis_ground_service', 'atis_flight', 'atis_ground_service', 'atis_flight', 'atis_flight', 'atis_flight', 'atis_flight', 'atis_flight', 'atis_flight', 'atis_airfare', 'atis_flight', 'atis_flight', 'atis_flight', 'atis_flight', 'atis_flight', 'atis_flight', 'atis_flight', 'atis_flight', 'atis_flight', 'atis_flight', 'atis_flight', 'atis_flight', 'atis_flight', 'atis_airfare', 'atis_flight', 'atis_flight', 'atis_flight', 'atis_flight', 'atis_flight', 'atis_flight', 'atis_flight', 'atis_flight', 'atis_flight', 'atis_flight', 'atis_flight', 'atis_airfare', 'atis_flight', 'atis_abbreviation', 'atis_flight', 'atis_flight', 'atis_abbreviation', 'atis_flight', 'atis_flight', 'atis_flight', 'atis_flight', 'atis_flight', 'atis_flight', 'atis_flight', 'atis_flight', 'atis_flight', 'atis_flight', 'atis_flight', 'atis_flight', 'atis_flight', 'atis_flight', 'atis_flight', 'atis_flight', 'atis_flight', 'atis_flight', 'atis_flight', 'atis_flight', 'atis_flight', 'atis_flight', 'atis_flight', 'atis_flight', 'atis_ground_service', 'atis_flight', 'atis_flight', 'atis_flight', 'atis_flight', 'atis_flight', 'atis_flight', 'atis_flight', 'atis_flight', 'atis_ground_service', 'atis_flight', 'atis_flight', 'atis_abbreviation', 'atis_flight', 'atis_flight', 'atis_flight', 'atis_airfare', 'atis_flight', 'atis_flight', 'atis_flight', 'atis_flight', 'atis_flight', 'atis_airfare', 'atis_flight', 'atis_flight', 'atis_ground_service', 'atis_flight', 'atis_flight', 'atis_flight', 'atis_ground_service', 'atis_flight', 'atis_flight', 'atis_airfare', 'atis_flight', 'atis_flight', 'atis_flight', 'atis_ground_service', 'atis_flight', 'atis_flight', 'atis_airfare', 'atis_flight', 'atis_flight', 'atis_flight', 'atis_flight', 'atis_flight', 'atis_flight', 'atis_flight', 'atis_flight', 'atis_flight', 'atis_flight', 'atis_flight', 'atis_flight', 'atis_flight', 'atis_flight', 'atis_flight', 'atis_flight', 'atis_flight', 'atis_flight', 'atis_flight', 'atis_flight', 'atis_flight', 'atis_aircraft', 'atis_flight', 'atis_flight', 'atis_flight', 'atis_flight', 'atis_flight', 'atis_flight', 'atis_flight', 'atis_aircraft', 'atis_ground_service', 'atis_flight', 'atis_flight', 'atis_flight', 'atis_flight', 'atis_flight', 'atis_flight', 'atis_flight', 'atis_flight', 'atis_flight', 'atis_flight', 'atis_flight', 'atis_aircraft', 'atis_flight', 'atis_flight', 'atis_flight', 'atis_ground_service', 'atis_flight', 'atis_flight', 'atis_flight', 'atis_flight', 'atis_flight', 'atis_flight', 'atis_flight', 'atis_flight', 'atis_flight', 'atis_flight', 'atis_flight', 'atis_airfare', 'atis_flight', 'atis_flight', 'atis_flight', 'atis_flight', 'atis_flight', 'atis_flight', 'atis_ground_service', 'atis_flight', 'atis_flight', 'atis_flight', 'atis_flight', 'atis_airfare', 'atis_ground_service', 'atis_flight', 'atis_flight', 'atis_flight', 'atis_flight', 'atis_flight', 'atis_flight', 'atis_flight', 'atis_flight', 'atis_abbreviation', 'atis_abbreviation', 'atis_flight', 'atis_flight', 'atis_flight', 'atis_flight', 'atis_flight', 'atis_flight', 'atis_flight', 'atis_flight', 'atis_flight', 'atis_flight', 'atis_flight', 'atis_flight', 'atis_flight', 'atis_flight', 'atis_airfare', 'atis_flight', 'atis_airfare', 'atis_flight', 'atis_ground_service', 'atis_flight', 'atis_flight', 'atis_flight', 'atis_ground_service', 'atis_flight', 'atis_ground_service', 'atis_flight', 'atis_flight', 'atis_ground_service', 'atis_ground_service', 'atis_flight', 'atis_flight', 'atis_ground_service', 'atis_flight', 'atis_ground_service', 'atis_flight', 'atis_flight', 'atis_flight', 'atis_flight', 'atis_flight', 'atis_flight', 'atis_flight', 'atis_flight', 'atis_flight', 'atis_airfare', 'atis_flight', 'atis_flight', 'atis_ground_service', 'atis_airfare', 'atis_flight', 'atis_flight', 'atis_flight', 'atis_flight', 'atis_flight', 'atis_flight', 'atis_flight', 'atis_flight', 'atis_flight', 'atis_flight', 'atis_aircraft', 'atis_flight', 'atis_flight', 'atis_flight', 'atis_flight', 'atis_flight', 'atis_flight', 'atis_flight', 'atis_flight', 'atis_ground_service', 'atis_flight', 'atis_flight', 'atis_flight', 'atis_flight', 'atis_flight', 'atis_flight', 'atis_flight', 'atis_flight', 'atis_flight', 'atis_flight', 'atis_flight', 'atis_flight', 'atis_flight', 'atis_flight', 'atis_flight', 'atis_flight', 'atis_flight', 'atis_flight', 'atis_flight', 'atis_flight', 'atis_flight', 'atis_flight', 'atis_flight', 'atis_flight', 'atis_flight', 'atis_flight', 'atis_flight', 'atis_ground_service', 'atis_flight', 'atis_flight', 'atis_flight', 'atis_flight', 'atis_flight', 'atis_airfare', 'atis_flight', 'atis_airfare', 'atis_flight', 'atis_ground_service', 'atis_flight', 'atis_flight', 'atis_flight', 'atis_flight', 'atis_airfare', 'atis_flight', 'atis_ground_service', 'atis_flight', 'atis_flight', 'atis_flight', 'atis_flight', 'atis_flight', 'atis_flight', 'atis_flight', 'atis_flight', 'atis_flight', 'atis_flight', 'atis_airfare', 'atis_flight', 'atis_flight', 'atis_airfare', 'atis_flight', 'atis_flight', 'atis_flight', 'atis_flight', 'atis_flight', 'atis_airfare', 'atis_flight', 'atis_flight', 'atis_flight', 'atis_flight', 'atis_ground_service', 'atis_flight', 'atis_flight', 'atis_flight', 'atis_ground_service', 'atis_flight', 'atis_ground_service', 'atis_flight', 'atis_flight', 'atis_flight', 'atis_ground_service', 'atis_flight', 'atis_flight', 'atis_ground_service', 'atis_airfare', 'atis_flight', 'atis_flight', 'atis_flight', 'atis_flight', 'atis_flight', 'atis_flight', 'atis_flight', 'atis_airfare', 'atis_flight', 'atis_flight', 'atis_flight', 'atis_flight', 'atis_flight', 'atis_airfare', 'atis_airfare', 'atis_airfare', 'atis_ground_service', 'atis_ground_service', 'atis_flight', 'atis_flight', 'atis_flight', 'atis_abbreviation', 'atis_flight', 'atis_flight', 'atis_flight', 'atis_flight', 'atis_flight', 'atis_flight', 'atis_aircraft', 'atis_flight', 'atis_flight', 'atis_flight', 'atis_ground_service', 'atis_flight', 'atis_ground_service', 'atis_flight', 'atis_airfare', 'atis_flight', 'atis_flight', 'atis_flight', 'atis_flight', 'atis_flight', 'atis_flight', 'atis_flight', 'atis_airfare', 'atis_flight', 'atis_flight', 'atis_flight', 'atis_flight', 'atis_flight', 'atis_flight', 'atis_flight', 'atis_flight', 'atis_flight', 'atis_flight', 'atis_flight', 'atis_flight', 'atis_flight', 'atis_flight', 'atis_flight', 'atis_flight', 'atis_flight', 'atis_flight', 'atis_flight', 'atis_flight', 'atis_flight', 'atis_flight', 'atis_flight', 'atis_flight', 'atis_quantity', 'atis_flight', 'atis_flight', 'atis_flight', 'atis_flight', 'atis_flight', 'atis_ground_service', 'atis_flight', 'atis_flight', 'atis_flight', 'atis_flight', 'atis_ground_service', 'atis_flight', 'atis_flight', 'atis_flight', 'atis_abbreviation', 'atis_ground_service', 'atis_flight', 'atis_flight', 'atis_flight', 'atis_ground_service', 'atis_flight', 'atis_flight', 'atis_flight', 'atis_flight', 'atis_flight', 'atis_flight', 'atis_flight', 'atis_flight', 'atis_flight', 'atis_flight', 'atis_flight', 'atis_flight', 'atis_flight', 'atis_flight', 'atis_flight', 'atis_flight', 'atis_flight', 'atis_flight', 'atis_flight', 'atis_flight', 'atis_flight', 'atis_flight', 'atis_flight', 'atis_flight', 'atis_flight', 'atis_flight', 'atis_ground_service', 'atis_abbreviation', 'atis_ground_service', 'atis_flight', 'atis_ground_service', 'atis_flight', 'atis_flight', 'atis_flight', 'atis_flight', 'atis_flight', 'atis_flight', 'atis_flight', 'atis_flight', 'atis_flight', 'atis_ground_service', 'atis_flight', 'atis_flight', 'atis_flight', 'atis_flight', 'atis_flight', 'atis_flight', 'atis_flight', 'atis_flight', 'atis_flight', 'atis_flight', 'atis_flight', 'atis_flight', 'atis_flight', 'atis_flight', 'atis_flight', 'atis_flight', 'atis_flight', 'atis_flight', 'atis_flight', 'atis_flight', 'atis_flight', 'atis_flight', 'atis_flight', 'atis_flight', 'atis_flight', 'atis_flight', 'atis_flight', 'atis_flight', 'atis_flight', 'atis_airfare', 'atis_abbreviation', 'atis_flight', 'atis_flight', 'atis_flight', 'atis_airfare', 'atis_flight', 'atis_flight', 'atis_flight', 'atis_flight', 'atis_flight', 'atis_airfare', 'atis_ground_service', 'atis_flight', 'atis_flight', 'atis_flight', 'atis_flight', 'atis_ground_service', 'atis_airline', 'atis_flight', 'atis_flight', 'atis_flight', 'atis_flight', 'atis_flight', 'atis_flight', 'atis_ground_service', 'atis_abbreviation', 'atis_flight', 'atis_flight', 'atis_flight', 'atis_ground_service', 'atis_ground_service', 'atis_flight', 'atis_flight', 'atis_ground_service', 'atis_flight', 'atis_flight', 'atis_flight', 'atis_flight', 'atis_airfare', 'atis_flight', 'atis_flight', 'atis_flight', 'atis_flight', 'atis_airfare', 'atis_ground_service', 'atis_flight', 'atis_airfare', 'atis_flight', 'atis_flight', 'atis_flight', 'atis_flight', 'atis_flight', 'atis_flight', 'atis_flight', 'atis_flight', 'atis_airfare', 'atis_airfare', 'atis_flight', 'atis_flight', 'atis_ground_service', 'atis_ground_service', 'atis_flight', 'atis_flight', 'atis_flight', 'atis_flight', 'atis_flight', 'atis_abbreviation', 'atis_flight', 'atis_ground_service', 'atis_flight', 'atis_flight', 'atis_flight', 'atis_flight', 'atis_flight', 'atis_flight', 'atis_flight', 'atis_flight', 'atis_flight', 'atis_airfare', 'atis_flight', 'atis_flight', 'atis_flight', 'atis_airfare', 'atis_flight', 'atis_flight', 'atis_flight', 'atis_ground_service', 'atis_flight', 'atis_flight', 'atis_flight', 'atis_airfare', 'atis_flight', 'atis_flight', 'atis_airfare', 'atis_flight', 'atis_flight', 'atis_flight', 'atis_aircraft', 'atis_flight', 'atis_flight', 'atis_flight', 'atis_flight', 'atis_flight', 'atis_flight', 'atis_flight', 'atis_flight', 'atis_flight', 'atis_flight', 'atis_flight', 'atis_flight', 'atis_flight', 'atis_airfare', 'atis_flight', 'atis_flight', 'atis_flight', 'atis_flight', 'atis_ground_service', 'atis_flight', 'atis_ground_service', 'atis_flight', 'atis_ground_service', 'atis_flight', 'atis_flight', 'atis_flight', 'atis_flight', 'atis_airfare', 'atis_flight', 'atis_flight', 'atis_flight', 'atis_airfare', 'atis_flight', 'atis_flight', 'atis_flight', 'atis_flight', 'atis_aircraft', 'atis_flight', 'atis_flight', 'atis_flight', 'atis_ground_service', 'atis_flight', 'atis_flight', 'atis_flight', 'atis_ground_service', 'atis_flight', 'atis_flight', 'atis_flight', 'atis_flight', 'atis_flight', 'atis_flight', 'atis_flight', 'atis_flight', 'atis_flight', 'atis_flight', 'atis_abbreviation', 'atis_flight', 'atis_flight', 'atis_airfare', 'atis_flight', 'atis_flight', 'atis_flight', 'atis_flight', 'atis_flight', 'atis_flight', 'atis_flight', 'atis_flight', 'atis_abbreviation', 'atis_airfare', 'atis_flight', 'atis_flight', 'atis_airfare', 'atis_airfare', 'atis_flight', 'atis_flight', 'atis_flight', 'atis_flight', 'atis_flight', 'atis_flight', 'atis_flight', 'atis_flight', 'atis_flight', 'atis_flight', 'atis_ground_service', 'atis_abbreviation', 'atis_flight', 'atis_flight', 'atis_flight', 'atis_flight', 'atis_flight', 'atis_flight', 'atis_ground_service', 'atis_abbreviation', 'atis_flight', 'atis_airfare', 'atis_flight', 'atis_flight', 'atis_flight', 'atis_flight', 'atis_flight', 'atis_flight', 'atis_flight', 'atis_ground_service', 'atis_flight', 'atis_ground_service', 'atis_flight', 'atis_flight', 'atis_flight', 'atis_flight', 'atis_abbreviation', 'atis_flight', 'atis_flight', 'atis_airfare', 'atis_flight', 'atis_airfare', 'atis_flight', 'atis_ground_service', 'atis_flight', 'atis_flight', 'atis_flight', 'atis_flight', 'atis_flight', 'atis_flight', 'atis_flight', 'atis_flight', 'atis_airfare', 'atis_flight', 'atis_flight', 'atis_flight', 'atis_flight', 'atis_flight', 'atis_flight', 'atis_flight', 'atis_flight', 'atis_flight', 'atis_flight', 'atis_flight', 'atis_flight', 'atis_flight', 'atis_flight', 'atis_flight', 'atis_flight', 'atis_flight', 'atis_flight', 'atis_airfare', 'atis_flight', 'atis_flight', 'atis_ground_service', 'atis_ground_service', 'atis_flight', 'atis_flight', 'atis_flight', 'atis_ground_service', 'atis_flight', 'atis_flight', 'atis_ground_service', 'atis_flight', 'atis_flight', 'atis_flight', 'atis_abbreviation', 'atis_flight', 'atis_flight', 'atis_flight', 'atis_airfare', 'atis_flight', 'atis_flight', 'atis_flight', 'atis_flight', 'atis_flight', 'atis_flight', 'atis_flight', 'atis_flight', 'atis_flight', 'atis_flight', 'atis_flight', 'atis_flight', 'atis_flight', 'atis_flight', 'atis_flight', 'atis_flight', 'atis_flight', 'atis_flight', 'atis_flight', 'atis_flight', 'atis_flight', 'atis_flight', 'atis_flight', 'atis_flight', 'atis_ground_service', 'atis_flight', 'atis_flight', 'atis_flight', 'atis_flight', 'atis_flight', 'atis_flight', 'atis_flight', 'atis_flight', 'atis_flight', 'atis_ground_service', 'atis_flight', 'atis_flight', 'atis_flight', 'atis_ground_service', 'atis_flight', 'atis_flight', 'atis_flight', 'atis_flight', 'atis_flight', 'atis_ground_service', 'atis_flight', 'atis_flight', 'atis_flight', 'atis_flight', 'atis_flight', 'atis_flight', 'atis_flight', 'atis_flight', 'atis_flight', 'atis_flight', 'atis_flight', 'atis_flight', 'atis_flight', 'atis_flight', 'atis_flight', 'atis_flight', 'atis_flight', 'atis_airfare', 'atis_flight', 'atis_abbreviation', 'atis_flight', 'atis_flight', 'atis_flight', 'atis_flight', 'atis_flight', 'atis_flight', 'atis_flight', 'atis_airfare', 'atis_flight', 'atis_flight', 'atis_flight', 'atis_flight', 'atis_flight', 'atis_flight', 'atis_flight', 'atis_flight', 'atis_flight', 'atis_ground_service', 'atis_flight', 'atis_flight', 'atis_flight', 'atis_flight', 'atis_flight', 'atis_flight', 'atis_flight', 'atis_flight', 'atis_flight', 'atis_flight', 'atis_flight', 'atis_flight', 'atis_flight', 'atis_flight', 'atis_flight', 'atis_flight', 'atis_flight', 'atis_flight', 'atis_flight', 'atis_flight', 'atis_aircraft', 'atis_flight', 'atis_flight', 'atis_flight', 'atis_flight', 'atis_flight', 'atis_airfare', 'atis_airfare', 'atis_flight', 'atis_flight', 'atis_flight', 'atis_flight', 'atis_flight', 'atis_flight', 'atis_flight', 'atis_flight', 'atis_ground_service', 'atis_abbreviation', 'atis_flight', 'atis_ground_service', 'atis_ground_service', 'atis_flight', 'atis_flight', 'atis_flight', 'atis_flight', 'atis_flight', 'atis_flight', 'atis_flight', 'atis_flight', 'atis_flight', 'atis_flight', 'atis_flight', 'atis_flight', 'atis_flight', 'atis_flight', 'atis_flight', 'atis_flight', 'atis_airfare', 'atis_flight', 'atis_flight', 'atis_abbreviation', 'atis_flight', 'atis_flight', 'atis_flight', 'atis_flight', 'atis_flight', 'atis_flight', 'atis_airfare', 'atis_flight', 'atis_ground_service', 'atis_flight', 'atis_flight', 'atis_flight', 'atis_flight', 'atis_airfare', 'atis_flight', 'atis_flight', 'atis_flight', 'atis_flight', 'atis_flight', 'atis_flight', 'atis_flight', 'atis_flight', 'atis_flight', 'atis_flight', 'atis_flight', 'atis_flight', 'atis_flight', 'atis_flight', 'atis_flight', 'atis_flight', 'atis_abbreviation', 'atis_flight', 'atis_flight', 'atis_flight', 'atis_flight', 'atis_flight', 'atis_flight', 'atis_airfare', 'atis_flight', 'atis_flight', 'atis_flight', 'atis_flight', 'atis_flight', 'atis_ground_service', 'atis_flight', 'atis_flight', 'atis_flight', 'atis_flight', 'atis_ground_service', 'atis_flight', 'atis_flight', 'atis_ground_service', 'atis_flight', 'atis_flight', 'atis_flight', 'atis_flight', 'atis_flight', 'atis_flight', 'atis_flight', 'atis_flight', 'atis_flight', 'atis_flight', 'atis_flight', 'atis_flight', 'atis_ground_service', 'atis_flight', 'atis_flight', 'atis_flight', 'atis_flight', 'atis_flight', 'atis_flight', 'atis_flight', 'atis_flight', 'atis_airfare', 'atis_flight', 'atis_flight', 'atis_flight', 'atis_airfare', 'atis_flight', 'atis_flight', 'atis_airfare', 'atis_flight', 'atis_flight', 'atis_airfare', 'atis_flight', 'atis_flight', 'atis_flight', 'atis_flight', 'atis_ground_service', 'atis_flight', 'atis_flight', 'atis_flight', 'atis_flight', 'atis_aircraft', 'atis_flight', 'atis_ground_service', 'atis_flight', 'atis_flight', 'atis_flight', 'atis_flight', 'atis_flight', 'atis_flight', 'atis_abbreviation', 'atis_flight', 'atis_ground_service', 'atis_flight', 'atis_flight', 'atis_flight', 'atis_flight', 'atis_flight', 'atis_flight', 'atis_flight', 'atis_flight', 'atis_flight', 'atis_flight', 'atis_flight', 'atis_flight', 'atis_flight', 'atis_airfare', 'atis_flight', 'atis_flight', 'atis_flight', 'atis_flight', 'atis_flight', 'atis_flight', 'atis_flight', 'atis_flight', 'atis_flight', 'atis_flight', 'atis_airfare', 'atis_flight', 'atis_flight', 'atis_flight', 'atis_flight', 'atis_flight', 'atis_flight', 'atis_flight', 'atis_abbreviation', 'atis_flight', 'atis_aircraft', 'atis_flight', 'atis_airfare', 'atis_flight', 'atis_flight', 'atis_flight', 'atis_flight', 'atis_ground_service', 'atis_flight', 'atis_flight', 'atis_flight', 'atis_flight', 'atis_flight', 'atis_flight', 'atis_flight', 'atis_abbreviation', 'atis_flight', 'atis_flight', 'atis_flight', 'atis_flight', 'atis_flight', 'atis_flight', 'atis_flight', 'atis_flight', 'atis_flight', 'atis_flight', 'atis_flight', 'atis_ground_service', 'atis_flight', 'atis_flight', 'atis_flight', 'atis_flight', 'atis_airfare', 'atis_flight', 'atis_flight', 'atis_aircraft', 'atis_flight', 'atis_flight', 'atis_flight', 'atis_flight', 'atis_flight', 'atis_flight', 'atis_flight', 'atis_flight', 'atis_flight', 'atis_flight', 'atis_flight', 'atis_flight', 'atis_flight', 'atis_ground_service', 'atis_flight', 'atis_flight', 'atis_flight', 'atis_flight', 'atis_flight', 'atis_flight', 'atis_flight', 'atis_flight', 'atis_flight', 'atis_flight', 'atis_flight', 'atis_flight', 'atis_ground_service', 'atis_flight', 'atis_flight', 'atis_flight', 'atis_flight', 'atis_flight', 'atis_flight', 'atis_flight', 'atis_flight', 'atis_flight', 'atis_flight', 'atis_airfare', 'atis_flight', 'atis_flight', 'atis_ground_service', 'atis_flight', 'atis_airfare', 'atis_flight', 'atis_flight', 'atis_flight', 'atis_flight', 'atis_flight', 'atis_flight', 'atis_flight', 'atis_flight', 'atis_abbreviation', 'atis_flight', 'atis_flight', 'atis_flight', 'atis_flight', 'atis_flight', 'atis_ground_service', 'atis_flight', 'atis_ground_service', 'atis_flight', 'atis_airfare', 'atis_airfare', 'atis_flight', 'atis_airfare', 'atis_flight', 'atis_flight', 'atis_flight', 'atis_flight', 'atis_ground_service', 'atis_flight', 'atis_flight', 'atis_flight', 'atis_airfare', 'atis_flight', 'atis_flight', 'atis_ground_service', 'atis_flight', 'atis_flight', 'atis_flight', 'atis_ground_service', 'atis_flight', 'atis_ground_service', 'atis_flight', 'atis_flight', 'atis_flight', 'atis_flight', 'atis_ground_service', 'atis_flight', 'atis_flight', 'atis_flight', 'atis_flight', 'atis_flight', 'atis_flight', 'atis_flight', 'atis_flight', 'atis_flight', 'atis_flight', 'atis_flight', 'atis_flight', 'atis_flight', 'atis_flight', 'atis_airfare', 'atis_flight', 'atis_flight', 'atis_flight', 'atis_flight', 'atis_ground_service', 'atis_flight', 'atis_flight', 'atis_ground_service', 'atis_flight', 'atis_airfare', 'atis_flight', 'atis_flight', 'atis_flight', 'atis_flight', 'atis_flight', 'atis_flight', 'atis_flight', 'atis_flight', 'atis_airfare', 'atis_flight', 'atis_flight', 'atis_flight', 'atis_flight', 'atis_flight', 'atis_flight', 'atis_ground_service', 'atis_abbreviation', 'atis_flight', 'atis_ground_service', 'atis_flight', 'atis_flight', 'atis_ground_service', 'atis_flight', 'atis_flight', 'atis_ground_service', 'atis_flight', 'atis_flight', 'atis_flight', 'atis_flight', 'atis_ground_service', 'atis_flight', 'atis_flight', 'atis_flight', 'atis_flight', 'atis_flight', 'atis_airfare', 'atis_ground_service', 'atis_aircraft', 'atis_flight', 'atis_flight', 'atis_flight', 'atis_flight', 'atis_ground_service', 'atis_flight', 'atis_flight', 'atis_flight', 'atis_flight', 'atis_flight', 'atis_airfare', 'atis_flight', 'atis_flight', 'atis_airfare', 'atis_flight', 'atis_ground_service', 'atis_abbreviation', 'atis_flight', 'atis_airfare', 'atis_flight', 'atis_flight', 'atis_flight', 'atis_flight', 'atis_flight', 'atis_flight', 'atis_flight', 'atis_airfare', 'atis_flight', 'atis_flight', 'atis_flight', 'atis_flight', 'atis_flight', 'atis_flight', 'atis_flight', 'atis_flight', 'atis_airfare', 'atis_ground_service', 'atis_flight', 'atis_flight', 'atis_flight', 'atis_flight', 'atis_flight', 'atis_ground_service', 'atis_flight', 'atis_flight', 'atis_flight', 'atis_flight', 'atis_flight', 'atis_airfare', 'atis_flight', 'atis_flight', 'atis_flight', 'atis_flight', 'atis_flight', 'atis_flight', 'atis_flight', 'atis_abbreviation', 'atis_flight', 'atis_flight', 'atis_flight', 'atis_flight', 'atis_flight', 'atis_ground_service', 'atis_flight', 'atis_flight', 'atis_flight', 'atis_flight', 'atis_flight', 'atis_flight', 'atis_airfare', 'atis_flight', 'atis_flight', 'atis_flight', 'atis_flight', 'atis_flight', 'atis_flight', 'atis_flight', 'atis_flight', 'atis_flight', 'atis_flight', 'atis_flight', 'atis_flight', 'atis_flight', 'atis_flight', 'atis_flight', 'atis_flight', 'atis_flight', 'atis_airfare', 'atis_flight', 'atis_flight', 'atis_flight', 'atis_flight', 'atis_abbreviation', 'atis_airfare', 'atis_flight', 'atis_flight', 'atis_flight', 'atis_airfare', 'atis_flight', 'atis_flight', 'atis_flight', 'atis_flight', 'atis_flight', 'atis_ground_service', 'atis_ground_service', 'atis_flight', 'atis_flight', 'atis_ground_service', 'atis_airline', 'atis_flight', 'atis_flight', 'atis_flight', 'atis_flight', 'atis_flight', 'atis_flight', 'atis_flight', 'atis_flight', 'atis_flight', 'atis_flight', 'atis_flight', 'atis_ground_service', 'atis_flight', 'atis_flight', 'atis_airfare', 'atis_flight', 'atis_flight', 'atis_flight', 'atis_abbreviation', 'atis_flight', 'atis_flight', 'atis_flight', 'atis_flight', 'atis_flight', 'atis_flight', 'atis_flight', 'atis_flight', 'atis_flight', 'atis_flight', 'atis_flight', 'atis_flight', 'atis_airfare', 'atis_flight', 'atis_ground_service', 'atis_flight', 'atis_flight', 'atis_flight', 'atis_flight', 'atis_flight', 'atis_flight', 'atis_flight', 'atis_flight', 'atis_flight', 'atis_flight', 'atis_flight', 'atis_flight', 'atis_flight', 'atis_flight', 'atis_flight', 'atis_flight', 'atis_flight', 'atis_flight', 'atis_flight', 'atis_flight', 'atis_abbreviation', 'atis_abbreviation', 'atis_flight', 'atis_flight', 'atis_flight', 'atis_flight', 'atis_flight', 'atis_flight', 'atis_airfare', 'atis_flight', 'atis_flight', 'atis_flight', 'atis_flight', 'atis_flight', 'atis_flight', 'atis_flight', 'atis_airline', 'atis_flight', 'atis_flight', 'atis_flight', 'atis_flight', 'atis_flight', 'atis_flight', 'atis_flight', 'atis_airfare', 'atis_flight', 'atis_flight', 'atis_flight', 'atis_flight', 'atis_flight', 'atis_flight', 'atis_flight', 'atis_abbreviation', 'atis_flight', 'atis_flight', 'atis_flight', 'atis_flight', 'atis_abbreviation', 'atis_flight', 'atis_flight', 'atis_flight', 'atis_flight', 'atis_airfare', 'atis_flight', 'atis_flight', 'atis_flight', 'atis_flight', 'atis_ground_service', 'atis_ground_service', 'atis_airfare', 'atis_flight', 'atis_flight', 'atis_flight', 'atis_ground_service', 'atis_ground_service', 'atis_flight', 'atis_abbreviation', 'atis_flight', 'atis_flight', 'atis_flight', 'atis_flight', 'atis_ground_service', 'atis_flight', 'atis_airfare', 'atis_flight', 'atis_flight', 'atis_flight', 'atis_flight', 'atis_flight', 'atis_flight', 'atis_flight', 'atis_flight', 'atis_flight', 'atis_flight', 'atis_abbreviation', 'atis_ground_service', 'atis_flight', 'atis_flight', 'atis_flight', 'atis_flight', 'atis_flight', 'atis_flight', 'atis_flight', 'atis_flight', 'atis_flight', 'atis_flight', 'atis_flight', 'atis_flight', 'atis_flight', 'atis_flight', 'atis_flight', 'atis_flight', 'atis_flight', 'atis_flight', 'atis_flight', 'atis_airfare', 'atis_airfare', 'atis_flight', 'atis_flight', 'atis_flight', 'atis_airfare', 'atis_flight', 'atis_ground_service', 'atis_flight', 'atis_flight', 'atis_flight', 'atis_flight', 'atis_flight', 'atis_flight', 'atis_flight', 'atis_flight', 'atis_ground_service', 'atis_flight', 'atis_ground_service', 'atis_flight', 'atis_flight', 'atis_flight', 'atis_airfare', 'atis_flight', 'atis_flight', 'atis_flight', 'atis_flight', 'atis_flight', 'atis_flight', 'atis_flight', 'atis_flight', 'atis_flight', 'atis_flight', 'atis_flight', 'atis_flight', 'atis_flight', 'atis_flight', 'atis_flight', 'atis_flight', 'atis_flight', 'atis_flight', 'atis_flight', 'atis_airfare', 'atis_flight', 'atis_flight', 'atis_flight', 'atis_flight', 'atis_flight', 'atis_flight', 'atis_flight', 'atis_flight', 'atis_flight', 'atis_flight', 'atis_ground_service', 'atis_flight', 'atis_ground_service', 'atis_flight', 'atis_flight', 'atis_flight', 'atis_flight', 'atis_flight', 'atis_flight', 'atis_flight', 'atis_airfare', 'atis_flight', 'atis_flight', 'atis_flight', 'atis_flight', 'atis_flight', 'atis_flight', 'atis_flight', 'atis_ground_service', 'atis_flight', 'atis_airfare', 'atis_flight', 'atis_airfare', 'atis_flight', 'atis_flight', 'atis_flight', 'atis_flight', 'atis_flight', 'atis_flight', 'atis_ground_service', 'atis_flight', 'atis_flight', 'atis_flight', 'atis_airfare', 'atis_flight', 'atis_flight', 'atis_airfare', 'atis_flight', 'atis_ground_service', 'atis_flight', 'atis_flight', 'atis_airfare', 'atis_flight', 'atis_flight', 'atis_flight', 'atis_flight', 'atis_flight', 'atis_flight', 'atis_flight', 'atis_flight', 'atis_flight', 'atis_flight', 'atis_flight', 'atis_abbreviation', 'atis_flight', 'atis_flight', 'atis_flight', 'atis_airfare', 'atis_flight', 'atis_flight', 'atis_flight', 'atis_flight', 'atis_flight', 'atis_flight', 'atis_flight', 'atis_flight', 'atis_abbreviation', 'atis_flight', 'atis_flight', 'atis_flight', 'atis_flight', 'atis_flight', 'atis_flight', 'atis_flight', 'atis_flight', 'atis_flight', 'atis_flight', 'atis_flight', 'atis_flight', 'atis_abbreviation', 'atis_flight', 'atis_flight', 'atis_flight', 'atis_flight', 'atis_flight', 'atis_flight', 'atis_flight', 'atis_flight', 'atis_flight', 'atis_flight', 'atis_flight', 'atis_flight', 'atis_flight', 'atis_flight', 'atis_flight', 'atis_flight', 'atis_flight', 'atis_flight', 'atis_flight', 'atis_flight', 'atis_ground_service', 'atis_flight', 'atis_flight', 'atis_flight', 'atis_flight', 'atis_ground_service', 'atis_flight', 'atis_flight', 'atis_airfare', 'atis_flight', 'atis_flight', 'atis_flight', 'atis_flight', 'atis_abbreviation', 'atis_flight', 'atis_flight', 'atis_flight', 'atis_flight', 'atis_ground_service', 'atis_abbreviation', 'atis_flight', 'atis_flight', 'atis_flight', 'atis_flight', 'atis_flight', 'atis_flight', 'atis_flight', 'atis_flight', 'atis_flight', 'atis_flight', 'atis_flight', 'atis_flight', 'atis_flight', 'atis_flight', 'atis_flight', 'atis_flight', 'atis_flight', 'atis_flight', 'atis_flight', 'atis_flight', 'atis_aircraft', 'atis_ground_service', 'atis_ground_service', 'atis_airfare', 'atis_ground_service', 'atis_flight', 'atis_flight', 'atis_flight', 'atis_flight', 'atis_flight', 'atis_flight', 'atis_ground_service', 'atis_flight', 'atis_flight', 'atis_flight', 'atis_flight', 'atis_flight', 'atis_flight', 'atis_airfare', 'atis_flight', 'atis_flight', 'atis_flight', 'atis_flight', 'atis_flight', 'atis_flight', 'atis_abbreviation', 'atis_flight', 'atis_airfare', 'atis_flight', 'atis_flight', 'atis_flight', 'atis_flight', 'atis_abbreviation', 'atis_airfare', 'atis_flight', 'atis_flight', 'atis_flight', 'atis_flight', 'atis_flight', 'atis_flight', 'atis_airfare', 'atis_flight', 'atis_flight', 'atis_flight', 'atis_flight', 'atis_flight', 'atis_ground_service', 'atis_flight', 'atis_flight', 'atis_flight', 'atis_flight', 'atis_flight', 'atis_flight', 'atis_flight', 'atis_flight', 'atis_flight', 'atis_flight', 'atis_abbreviation', 'atis_ground_service', 'atis_abbreviation', 'atis_flight', 'atis_abbreviation', 'atis_flight', 'atis_flight', 'atis_flight', 'atis_flight', 'atis_flight', 'atis_ground_service', 'atis_flight', 'atis_flight', 'atis_flight', 'atis_flight', 'atis_flight', 'atis_flight', 'atis_ground_service', 'atis_flight', 'atis_flight', 'atis_flight', 'atis_flight', 'atis_flight', 'atis_flight', 'atis_ground_service', 'atis_flight', 'atis_flight', 'atis_flight', 'atis_flight', 'atis_flight', 'atis_flight', 'atis_abbreviation', 'atis_flight', 'atis_flight', 'atis_flight', 'atis_flight', 'atis_flight', 'atis_flight', 'atis_flight', 'atis_flight', 'atis_abbreviation', 'atis_flight', 'atis_flight', 'atis_flight', 'atis_flight', 'atis_flight', 'atis_flight', 'atis_flight', 'atis_flight', 'atis_flight', 'atis_ground_service', 'atis_flight', 'atis_flight', 'atis_flight', 'atis_flight', 'atis_ground_service', 'atis_flight', 'atis_flight', 'atis_flight', 'atis_airfare', 'atis_flight', 'atis_flight', 'atis_flight', 'atis_flight', 'atis_flight', 'atis_flight', 'atis_flight', 'atis_flight', 'atis_flight', 'atis_airfare', 'atis_flight', 'atis_flight', 'atis_flight', 'atis_ground_service', 'atis_flight', 'atis_abbreviation', 'atis_flight', 'atis_flight', 'atis_abbreviation', 'atis_airfare', 'atis_abbreviation', 'atis_flight', 'atis_ground_service', 'atis_flight', 'atis_ground_service', 'atis_flight', 'atis_flight', 'atis_flight', 'atis_flight', 'atis_ground_service', 'atis_flight', 'atis_flight', 'atis_flight', 'atis_airfare', 'atis_flight', 'atis_flight', 'atis_flight', 'atis_flight', 'atis_flight', 'atis_flight', 'atis_abbreviation', 'atis_flight', 'atis_flight', 'atis_flight', 'atis_flight', 'atis_flight', 'atis_ground_service', 'atis_flight', 'atis_flight', 'atis_flight', 'atis_flight', 'atis_flight', 'atis_flight', 'atis_flight', 'atis_flight', 'atis_flight', 'atis_flight', 'atis_abbreviation', 'atis_ground_service', 'atis_flight', 'atis_flight', 'atis_flight', 'atis_flight', 'atis_flight', 'atis_flight', 'atis_flight', 'atis_flight', 'atis_flight', 'atis_flight', 'atis_flight', 'atis_flight', 'atis_flight', 'atis_flight', 'atis_flight', 'atis_flight', 'atis_flight', 'atis_flight', 'atis_abbreviation', 'atis_flight', 'atis_flight', 'atis_flight', 'atis_flight', 'atis_flight', 'atis_flight', 'atis_flight', 'atis_flight', 'atis_flight', 'atis_flight', 'atis_flight', 'atis_flight', 'atis_flight', 'atis_airfare', 'atis_flight', 'atis_flight', 'atis_flight', 'atis_flight', 'atis_flight', 'atis_flight', 'atis_flight', 'atis_flight', 'atis_flight', 'atis_flight', 'atis_flight', 'atis_abbreviation', 'atis_flight', 'atis_flight', 'atis_flight', 'atis_flight', 'atis_flight', 'atis_flight', 'atis_flight', 'atis_flight', 'atis_flight', 'atis_abbreviation', 'atis_flight', 'atis_flight', 'atis_flight', 'atis_flight', 'atis_flight', 'atis_flight', 'atis_flight', 'atis_flight', 'atis_flight', 'atis_flight', 'atis_flight', 'atis_flight', 'atis_ground_service', 'atis_flight', 'atis_flight', 'atis_abbreviation', 'atis_ground_service', 'atis_flight', 'atis_flight', 'atis_flight', 'atis_flight', 'atis_airfare', 'atis_flight', 'atis_flight', 'atis_flight', 'atis_airfare', 'atis_flight', 'atis_flight', 'atis_flight', 'atis_flight', 'atis_ground_service', 'atis_flight', 'atis_flight', 'atis_flight', 'atis_flight', 'atis_flight', 'atis_flight', 'atis_flight', 'atis_abbreviation', 'atis_ground_service', 'atis_flight', 'atis_flight', 'atis_ground_service', 'atis_flight', 'atis_airfare', 'atis_airfare', 'atis_ground_service', 'atis_flight', 'atis_flight', 'atis_flight', 'atis_ground_service', 'atis_flight', 'atis_flight', 'atis_flight', 'atis_flight', 'atis_flight', 'atis_flight', 'atis_flight', 'atis_flight', 'atis_flight', 'atis_flight', 'atis_flight', 'atis_flight', 'atis_flight', 'atis_airfare', 'atis_flight', 'atis_flight', 'atis_ground_service', 'atis_flight', 'atis_flight', 'atis_flight', 'atis_flight', 'atis_flight', 'atis_flight', 'atis_airfare', 'atis_flight', 'atis_flight', 'atis_flight', 'atis_flight', 'atis_flight', 'atis_flight', 'atis_ground_service', 'atis_ground_service', 'atis_flight', 'atis_flight', 'atis_flight', 'atis_airfare', 'atis_flight', 'atis_flight', 'atis_flight', 'atis_flight', 'atis_flight', 'atis_flight', 'atis_airfare', 'atis_flight', 'atis_ground_service', 'atis_flight', 'atis_flight', 'atis_flight', 'atis_quantity', 'atis_flight', 'atis_ground_service', 'atis_flight', 'atis_flight', 'atis_flight', 'atis_flight', 'atis_flight', 'atis_flight', 'atis_ground_service', 'atis_flight', 'atis_flight', 'atis_flight', 'atis_flight', 'atis_flight', 'atis_airfare', 'atis_flight', 'atis_flight', 'atis_flight', 'atis_flight', 'atis_flight', 'atis_flight', 'atis_flight', 'atis_flight', 'atis_flight', 'atis_flight', 'atis_flight', 'atis_flight', 'atis_flight', 'atis_flight', 'atis_flight', 'atis_flight', 'atis_flight', 'atis_flight', 'atis_flight', 'atis_flight', 'atis_flight', 'atis_flight', 'atis_flight', 'atis_aircraft', 'atis_flight', 'atis_flight', 'atis_flight', 'atis_flight', 'atis_flight', 'atis_flight', 'atis_flight', 'atis_flight', 'atis_flight', 'atis_flight', 'atis_flight', 'atis_flight', 'atis_flight', 'atis_flight', 'atis_flight', 'atis_flight', 'atis_flight', 'atis_flight', 'atis_flight', 'atis_flight', 'atis_flight', 'atis_flight', 'atis_airfare', 'atis_flight', 'atis_flight', 'atis_abbreviation', 'atis_flight', 'atis_flight', 'atis_flight', 'atis_flight', 'atis_flight', 'atis_flight', 'atis_flight', 'atis_flight', 'atis_flight', 'atis_flight', 'atis_flight', 'atis_flight', 'atis_flight', 'atis_flight', 'atis_flight', 'atis_flight', 'atis_flight', 'atis_flight', 'atis_flight', 'atis_flight', 'atis_flight', 'atis_ground_service', 'atis_flight', 'atis_flight', 'atis_flight', 'atis_flight', 'atis_airfare', 'atis_flight', 'atis_flight', 'atis_flight', 'atis_flight', 'atis_flight', 'atis_ground_service', 'atis_flight', 'atis_flight', 'atis_flight', 'atis_flight', 'atis_flight', 'atis_flight', 'atis_flight', 'atis_flight', 'atis_flight', 'atis_ground_service', 'atis_flight', 'atis_flight', 'atis_flight', 'atis_flight', 'atis_flight', 'atis_flight', 'atis_flight', 'atis_ground_service', 'atis_flight', 'atis_flight', 'atis_flight', 'atis_flight', 'atis_airfare', 'atis_flight', 'atis_flight', 'atis_flight', 'atis_flight', 'atis_ground_service', 'atis_flight', 'atis_abbreviation', 'atis_flight', 'atis_flight', 'atis_ground_service', 'atis_flight', 'atis_flight', 'atis_flight', 'atis_flight', 'atis_flight', 'atis_flight', 'atis_flight', 'atis_ground_service', 'atis_flight', 'atis_flight', 'atis_flight', 'atis_airfare', 'atis_ground_service', 'atis_flight', 'atis_flight', 'atis_flight', 'atis_flight', 'atis_flight', 'atis_flight', 'atis_flight', 'atis_flight', 'atis_flight', 'atis_abbreviation', 'atis_abbreviation', 'atis_flight', 'atis_abbreviation', 'atis_flight', 'atis_flight', 'atis_flight', 'atis_flight', 'atis_flight', 'atis_ground_service', 'atis_flight', 'atis_flight', 'atis_flight', 'atis_flight', 'atis_flight', 'atis_flight', 'atis_flight', 'atis_flight', 'atis_flight', 'atis_ground_service', 'atis_flight', 'atis_flight', 'atis_ground_service', 'atis_airfare', 'atis_flight', 'atis_ground_service', 'atis_flight', 'atis_flight', 'atis_ground_service', 'atis_flight', 'atis_flight', 'atis_flight', 'atis_flight', 'atis_flight', 'atis_flight', 'atis_flight', 'atis_airfare', 'atis_flight', 'atis_flight', 'atis_flight', 'atis_flight', 'atis_flight', 'atis_flight', 'atis_flight', 'atis_flight', 'atis_flight', 'atis_flight', 'atis_flight', 'atis_flight', 'atis_flight', 'atis_flight', 'atis_flight', 'atis_flight', 'atis_flight', 'atis_flight', 'atis_flight', 'atis_flight', 'atis_flight', 'atis_flight', 'atis_flight', 'atis_ground_service', 'atis_flight', 'atis_flight', 'atis_flight', 'atis_flight', 'atis_flight', 'atis_flight', 'atis_flight', 'atis_flight', 'atis_flight', 'atis_flight', 'atis_flight', 'atis_flight', 'atis_flight', 'atis_flight', 'atis_flight', 'atis_airfare', 'atis_abbreviation', 'atis_flight', 'atis_flight', 'atis_flight', 'atis_flight', 'atis_flight', 'atis_flight', 'atis_flight', 'atis_flight', 'atis_flight', 'atis_abbreviation', 'atis_ground_service', 'atis_flight', 'atis_flight', 'atis_flight', 'atis_abbreviation', 'atis_airfare', 'atis_flight', 'atis_flight', 'atis_airfare', 'atis_abbreviation', 'atis_flight', 'atis_flight', 'atis_flight', 'atis_ground_service', 'atis_flight', 'atis_ground_service', 'atis_flight', 'atis_flight', 'atis_ground_service', 'atis_flight', 'atis_flight', 'atis_flight', 'atis_flight', 'atis_flight', 'atis_flight', 'atis_flight', 'atis_flight', 'atis_flight', 'atis_ground_service', 'atis_flight', 'atis_flight', 'atis_flight', 'atis_flight', 'atis_flight', 'atis_flight', 'atis_flight', 'atis_flight', 'atis_flight', 'atis_flight', 'atis_flight', 'atis_flight', 'atis_flight', 'atis_flight', 'atis_flight', 'atis_flight', 'atis_ground_service', 'atis_flight', 'atis_flight', 'atis_flight', 'atis_flight', 'atis_flight', 'atis_flight', 'atis_flight', 'atis_flight', 'atis_flight', 'atis_airfare', 'atis_ground_service', 'atis_flight', 'atis_flight', 'atis_flight', 'atis_flight', 'atis_flight', 'atis_flight', 'atis_flight', 'atis_flight', 'atis_flight', 'atis_flight', 'atis_flight', 'atis_flight', 'atis_flight', 'atis_flight', 'atis_flight', 'atis_airfare', 'atis_flight', 'atis_flight', 'atis_flight', 'atis_flight', 'atis_flight', 'atis_flight', 'atis_flight', 'atis_flight', 'atis_flight', 'atis_flight', 'atis_airfare', 'atis_flight', 'atis_airfare', 'atis_flight', 'atis_flight', 'atis_flight', 'atis_flight', 'atis_flight', 'atis_flight', 'atis_flight', 'atis_abbreviation', 'atis_airfare', 'atis_flight', 'atis_flight', 'atis_flight', 'atis_flight', 'atis_ground_service', 'atis_flight', 'atis_flight', 'atis_flight', 'atis_flight', 'atis_flight', 'atis_flight', 'atis_ground_service', 'atis_flight', 'atis_flight', 'atis_flight', 'atis_airfare', 'atis_flight', 'atis_flight', 'atis_flight', 'atis_flight', 'atis_flight', 'atis_flight', 'atis_ground_service', 'atis_flight', 'atis_flight', 'atis_ground_service', 'atis_flight', 'atis_flight', 'atis_flight', 'atis_flight', 'atis_ground_service', 'atis_flight', 'atis_flight', 'atis_ground_service', 'atis_airfare', 'atis_flight', 'atis_flight', 'atis_flight', 'atis_flight', 'atis_flight', 'atis_flight', 'atis_flight', 'atis_flight', 'atis_flight', 'atis_flight', 'atis_flight', 'atis_flight', 'atis_flight', 'atis_flight', 'atis_flight', 'atis_flight', 'atis_flight', 'atis_flight', 'atis_flight', 'atis_flight', 'atis_flight', 'atis_airfare', 'atis_flight', 'atis_abbreviation', 'atis_flight', 'atis_flight', 'atis_flight', 'atis_ground_service', 'atis_flight', 'atis_flight', 'atis_flight', 'atis_flight', 'atis_ground_service', 'atis_ground_service', 'atis_flight', 'atis_flight', 'atis_flight', 'atis_flight', 'atis_flight', 'atis_airfare', 'atis_flight', 'atis_flight', 'atis_flight', 'atis_flight', 'atis_flight', 'atis_ground_service', 'atis_flight', 'atis_flight', 'atis_airfare', 'atis_flight', 'atis_flight', 'atis_flight', 'atis_ground_service', 'atis_flight', 'atis_flight', 'atis_airfare', 'atis_airfare', 'atis_flight', 'atis_flight', 'atis_flight', 'atis_flight', 'atis_flight', 'atis_flight', 'atis_flight', 'atis_flight', 'atis_flight', 'atis_flight', 'atis_ground_service', 'atis_flight', 'atis_flight', 'atis_flight', 'atis_abbreviation', 'atis_flight', 'atis_flight', 'atis_flight', 'atis_flight', 'atis_flight', 'atis_flight', 'atis_ground_service', 'atis_flight', 'atis_flight', 'atis_flight', 'atis_flight', 'atis_flight', 'atis_ground_service', 'atis_flight', 'atis_flight', 'atis_flight', 'atis_flight', 'atis_flight', 'atis_flight', 'atis_flight', 'atis_flight', 'atis_flight', 'atis_ground_service', 'atis_flight', 'atis_flight', 'atis_flight', 'atis_flight', 'atis_flight', 'atis_flight', 'atis_flight', 'atis_flight', 'atis_airfare', 'atis_airfare', 'atis_flight', 'atis_ground_service', 'atis_flight', 'atis_flight', 'atis_flight', 'atis_flight', 'atis_flight', 'atis_flight', 'atis_flight', 'atis_flight', 'atis_flight', 'atis_ground_service', 'atis_flight', 'atis_flight', 'atis_flight', 'atis_flight', 'atis_flight', 'atis_flight', 'atis_flight', 'atis_airfare', 'atis_airfare', 'atis_flight', 'atis_flight', 'atis_flight', 'atis_flight', 'atis_flight', 'atis_flight', 'atis_flight', 'atis_flight', 'atis_flight', 'atis_airfare', 'atis_flight', 'atis_flight', 'atis_flight', 'atis_flight', 'atis_flight', 'atis_ground_service', 'atis_flight', 'atis_ground_service', 'atis_flight', 'atis_flight', 'atis_flight', 'atis_flight', 'atis_flight', 'atis_flight', 'atis_flight', 'atis_flight', 'atis_flight', 'atis_flight', 'atis_flight', 'atis_flight', 'atis_flight', 'atis_flight', 'atis_flight', 'atis_flight', 'atis_flight', 'atis_ground_service', 'atis_flight', 'atis_flight', 'atis_aircraft', 'atis_flight', 'atis_flight', 'atis_flight', 'atis_flight', 'atis_flight', 'atis_flight', 'atis_flight', 'atis_ground_service', 'atis_flight', 'atis_flight', 'atis_ground_service', 'atis_flight', 'atis_flight', 'atis_flight', 'atis_ground_service', 'atis_flight', 'atis_flight', 'atis_flight', 'atis_flight', 'atis_airfare', 'atis_ground_service', 'atis_flight', 'atis_flight', 'atis_flight', 'atis_flight', 'atis_flight', 'atis_flight', 'atis_flight', 'atis_flight', 'atis_flight', 'atis_flight', 'atis_flight', 'atis_flight', 'atis_flight', 'atis_flight', 'atis_flight', 'atis_flight', 'atis_abbreviation', 'atis_flight', 'atis_flight', 'atis_flight', 'atis_flight', 'atis_ground_service', 'atis_flight', 'atis_flight', 'atis_flight', 'atis_flight', 'atis_flight', 'atis_flight', 'atis_flight', 'atis_flight', 'atis_airfare', 'atis_flight', 'atis_flight', 'atis_flight', 'atis_flight', 'atis_flight', 'atis_flight', 'atis_flight', 'atis_flight', 'atis_flight', 'atis_flight', 'atis_flight', 'atis_flight', 'atis_flight', 'atis_flight', 'atis_flight', 'atis_flight', 'atis_flight', 'atis_flight', 'atis_flight', 'atis_flight', 'atis_flight', 'atis_flight', 'atis_flight', 'atis_flight', 'atis_flight', 'atis_flight', 'atis_flight', 'atis_ground_service', 'atis_flight', 'atis_airfare', 'atis_flight', 'atis_flight', 'atis_flight', 'atis_flight', 'atis_flight', 'atis_flight', 'atis_airfare', 'atis_flight', 'atis_flight', 'atis_flight', 'atis_flight', 'atis_flight', 'atis_flight', 'atis_airfare', 'atis_flight', 'atis_flight', 'atis_flight', 'atis_abbreviation', 'atis_flight', 'atis_flight', 'atis_ground_service', 'atis_flight', 'atis_ground_service', 'atis_flight', 'atis_flight', 'atis_flight', 'atis_flight', 'atis_flight', 'atis_flight', 'atis_flight', 'atis_flight', 'atis_flight', 'atis_flight', 'atis_flight', 'atis_flight', 'atis_airfare', 'atis_flight', 'atis_ground_service', 'atis_flight', 'atis_flight', 'atis_flight', 'atis_flight', 'atis_flight', 'atis_flight', 'atis_flight', 'atis_flight', 'atis_flight', 'atis_flight', 'atis_quantity', 'atis_airfare', 'atis_flight', 'atis_flight', 'atis_flight', 'atis_flight', 'atis_abbreviation', 'atis_flight', 'atis_flight', 'atis_ground_service', 'atis_flight', 'atis_flight', 'atis_flight', 'atis_flight', 'atis_flight', 'atis_flight', 'atis_flight', 'atis_flight', 'atis_flight', 'atis_flight', 'atis_flight', 'atis_flight', 'atis_flight', 'atis_flight', 'atis_ground_service', 'atis_flight', 'atis_flight', 'atis_flight', 'atis_flight', 'atis_flight', 'atis_flight', 'atis_flight', 'atis_flight', 'atis_flight', 'atis_flight', 'atis_ground_service', 'atis_flight', 'atis_flight', 'atis_flight', 'atis_flight', 'atis_flight', 'atis_flight', 'atis_flight', 'atis_flight', 'atis_flight', 'atis_flight', 'atis_abbreviation', 'atis_flight', 'atis_airfare', 'atis_flight', 'atis_flight', 'atis_flight', 'atis_flight', 'atis_flight', 'atis_ground_service', 'atis_flight', 'atis_flight', 'atis_flight', 'atis_flight', 'atis_ground_service', 'atis_flight', 'atis_flight', 'atis_flight', 'atis_flight', 'atis_flight', 'atis_flight', 'atis_airfare', 'atis_flight', 'atis_flight', 'atis_abbreviation', 'atis_flight', 'atis_flight', 'atis_flight', 'atis_flight', 'atis_flight', 'atis_flight', 'atis_flight', 'atis_flight', 'atis_flight', 'atis_flight', 'atis_flight', 'atis_flight', 'atis_flight', 'atis_airfare', 'atis_flight', 'atis_flight', 'atis_flight', 'atis_flight', 'atis_flight', 'atis_flight', 'atis_flight', 'atis_flight', 'atis_flight', 'atis_flight', 'atis_flight', 'atis_flight', 'atis_flight', 'atis_flight', 'atis_flight', 'atis_flight', 'atis_airfare', 'atis_flight', 'atis_flight', 'atis_flight', 'atis_flight', 'atis_flight', 'atis_flight', 'atis_ground_service', 'atis_flight', 'atis_flight', 'atis_flight', 'atis_flight', 'atis_flight', 'atis_flight', 'atis_flight', 'atis_flight', 'atis_flight', 'atis_flight', 'atis_flight', 'atis_flight', 'atis_flight', 'atis_flight', 'atis_flight', 'atis_flight', 'atis_flight', 'atis_airfare', 'atis_flight', 'atis_flight', 'atis_flight', 'atis_flight', 'atis_flight', 'atis_abbreviation', 'atis_flight', 'atis_flight', 'atis_flight', 'atis_flight', 'atis_ground_service', 'atis_flight', 'atis_flight', 'atis_ground_service']\n"
     ]
    },
    {
     "data": {
      "text/plain": [
       "4973"
      ]
     },
     "execution_count": 106,
     "metadata": {},
     "output_type": "execute_result"
    }
   ],
   "source": [
    "\n",
    "predicted_class_names = [unique_labels[label] for label in predicted_labels]\n",
    "\n",
    "print(\"Predicted Class Names:\", predicted_class_names)\n",
    "len(predicted_class_names)"
   ]
  },
  {
   "cell_type": "code",
   "execution_count": 108,
   "id": "1269fd9c",
   "metadata": {},
   "outputs": [],
   "source": [
    "bilstm_output= pd.DataFrame(predicted_class_names)"
   ]
  },
  {
   "cell_type": "code",
   "execution_count": 110,
   "id": "4b7f32b5",
   "metadata": {},
   "outputs": [
    {
     "data": {
      "text/html": [
       "<div>\n",
       "<style scoped>\n",
       "    .dataframe tbody tr th:only-of-type {\n",
       "        vertical-align: middle;\n",
       "    }\n",
       "\n",
       "    .dataframe tbody tr th {\n",
       "        vertical-align: top;\n",
       "    }\n",
       "\n",
       "    .dataframe thead th {\n",
       "        text-align: right;\n",
       "    }\n",
       "</style>\n",
       "<table border=\"1\" class=\"dataframe\">\n",
       "  <thead>\n",
       "    <tr style=\"text-align: right;\">\n",
       "      <th></th>\n",
       "      <th>0</th>\n",
       "    </tr>\n",
       "  </thead>\n",
       "  <tbody>\n",
       "    <tr>\n",
       "      <th>0</th>\n",
       "      <td>atis_flight</td>\n",
       "    </tr>\n",
       "    <tr>\n",
       "      <th>1</th>\n",
       "      <td>atis_flight</td>\n",
       "    </tr>\n",
       "    <tr>\n",
       "      <th>2</th>\n",
       "      <td>atis_airfare</td>\n",
       "    </tr>\n",
       "    <tr>\n",
       "      <th>3</th>\n",
       "      <td>atis_flight</td>\n",
       "    </tr>\n",
       "    <tr>\n",
       "      <th>4</th>\n",
       "      <td>atis_flight</td>\n",
       "    </tr>\n",
       "    <tr>\n",
       "      <th>...</th>\n",
       "      <td>...</td>\n",
       "    </tr>\n",
       "    <tr>\n",
       "      <th>4968</th>\n",
       "      <td>atis_flight</td>\n",
       "    </tr>\n",
       "    <tr>\n",
       "      <th>4969</th>\n",
       "      <td>atis_ground_service</td>\n",
       "    </tr>\n",
       "    <tr>\n",
       "      <th>4970</th>\n",
       "      <td>atis_flight</td>\n",
       "    </tr>\n",
       "    <tr>\n",
       "      <th>4971</th>\n",
       "      <td>atis_flight</td>\n",
       "    </tr>\n",
       "    <tr>\n",
       "      <th>4972</th>\n",
       "      <td>atis_ground_service</td>\n",
       "    </tr>\n",
       "  </tbody>\n",
       "</table>\n",
       "<p>4973 rows × 1 columns</p>\n",
       "</div>"
      ],
      "text/plain": [
       "                        0\n",
       "0             atis_flight\n",
       "1             atis_flight\n",
       "2            atis_airfare\n",
       "3             atis_flight\n",
       "4             atis_flight\n",
       "...                   ...\n",
       "4968          atis_flight\n",
       "4969  atis_ground_service\n",
       "4970          atis_flight\n",
       "4971          atis_flight\n",
       "4972  atis_ground_service\n",
       "\n",
       "[4973 rows x 1 columns]"
      ]
     },
     "execution_count": 110,
     "metadata": {},
     "output_type": "execute_result"
    }
   ],
   "source": [
    "bilstm_output"
   ]
  },
  {
   "cell_type": "code",
   "execution_count": 121,
   "id": "c05204f5",
   "metadata": {},
   "outputs": [
    {
     "ename": "KeyError",
     "evalue": "1",
     "output_type": "error",
     "traceback": [
      "\u001b[1;31m---------------------------------------------------------------------------\u001b[0m",
      "\u001b[1;31mValueError\u001b[0m                                Traceback (most recent call last)",
      "File \u001b[1;32m~\\anaconda3\\lib\\site-packages\\pandas\\core\\indexes\\range.py:385\u001b[0m, in \u001b[0;36mRangeIndex.get_loc\u001b[1;34m(self, key, method, tolerance)\u001b[0m\n\u001b[0;32m    384\u001b[0m \u001b[38;5;28;01mtry\u001b[39;00m:\n\u001b[1;32m--> 385\u001b[0m     \u001b[38;5;28;01mreturn\u001b[39;00m \u001b[38;5;28;43mself\u001b[39;49m\u001b[38;5;241;43m.\u001b[39;49m\u001b[43m_range\u001b[49m\u001b[38;5;241;43m.\u001b[39;49m\u001b[43mindex\u001b[49m\u001b[43m(\u001b[49m\u001b[43mnew_key\u001b[49m\u001b[43m)\u001b[49m\n\u001b[0;32m    386\u001b[0m \u001b[38;5;28;01mexcept\u001b[39;00m \u001b[38;5;167;01mValueError\u001b[39;00m \u001b[38;5;28;01mas\u001b[39;00m err:\n",
      "\u001b[1;31mValueError\u001b[0m: 1 is not in range",
      "\nThe above exception was the direct cause of the following exception:\n",
      "\u001b[1;31mKeyError\u001b[0m                                  Traceback (most recent call last)",
      "Input \u001b[1;32mIn [121]\u001b[0m, in \u001b[0;36m<cell line: 1>\u001b[1;34m()\u001b[0m\n\u001b[1;32m----> 1\u001b[0m \u001b[43mbilstm_output\u001b[49m\u001b[38;5;241;43m.\u001b[39;49m\u001b[43miloc\u001b[49m\u001b[43m[\u001b[49m\u001b[38;5;241;43m0\u001b[39;49m\u001b[43m]\u001b[49m\u001b[43m[\u001b[49m\u001b[38;5;241;43m1\u001b[39;49m\u001b[43m]\u001b[49m\n",
      "File \u001b[1;32m~\\anaconda3\\lib\\site-packages\\pandas\\core\\series.py:958\u001b[0m, in \u001b[0;36mSeries.__getitem__\u001b[1;34m(self, key)\u001b[0m\n\u001b[0;32m    955\u001b[0m     \u001b[38;5;28;01mreturn\u001b[39;00m \u001b[38;5;28mself\u001b[39m\u001b[38;5;241m.\u001b[39m_values[key]\n\u001b[0;32m    957\u001b[0m \u001b[38;5;28;01melif\u001b[39;00m key_is_scalar:\n\u001b[1;32m--> 958\u001b[0m     \u001b[38;5;28;01mreturn\u001b[39;00m \u001b[38;5;28;43mself\u001b[39;49m\u001b[38;5;241;43m.\u001b[39;49m\u001b[43m_get_value\u001b[49m\u001b[43m(\u001b[49m\u001b[43mkey\u001b[49m\u001b[43m)\u001b[49m\n\u001b[0;32m    960\u001b[0m \u001b[38;5;28;01mif\u001b[39;00m is_hashable(key):\n\u001b[0;32m    961\u001b[0m     \u001b[38;5;66;03m# Otherwise index.get_value will raise InvalidIndexError\u001b[39;00m\n\u001b[0;32m    962\u001b[0m     \u001b[38;5;28;01mtry\u001b[39;00m:\n\u001b[0;32m    963\u001b[0m         \u001b[38;5;66;03m# For labels that don't resolve as scalars like tuples and frozensets\u001b[39;00m\n",
      "File \u001b[1;32m~\\anaconda3\\lib\\site-packages\\pandas\\core\\series.py:1069\u001b[0m, in \u001b[0;36mSeries._get_value\u001b[1;34m(self, label, takeable)\u001b[0m\n\u001b[0;32m   1066\u001b[0m     \u001b[38;5;28;01mreturn\u001b[39;00m \u001b[38;5;28mself\u001b[39m\u001b[38;5;241m.\u001b[39m_values[label]\n\u001b[0;32m   1068\u001b[0m \u001b[38;5;66;03m# Similar to Index.get_value, but we do not fall back to positional\u001b[39;00m\n\u001b[1;32m-> 1069\u001b[0m loc \u001b[38;5;241m=\u001b[39m \u001b[38;5;28;43mself\u001b[39;49m\u001b[38;5;241;43m.\u001b[39;49m\u001b[43mindex\u001b[49m\u001b[38;5;241;43m.\u001b[39;49m\u001b[43mget_loc\u001b[49m\u001b[43m(\u001b[49m\u001b[43mlabel\u001b[49m\u001b[43m)\u001b[49m\n\u001b[0;32m   1070\u001b[0m \u001b[38;5;28;01mreturn\u001b[39;00m \u001b[38;5;28mself\u001b[39m\u001b[38;5;241m.\u001b[39mindex\u001b[38;5;241m.\u001b[39m_get_values_for_loc(\u001b[38;5;28mself\u001b[39m, loc, label)\n",
      "File \u001b[1;32m~\\anaconda3\\lib\\site-packages\\pandas\\core\\indexes\\range.py:387\u001b[0m, in \u001b[0;36mRangeIndex.get_loc\u001b[1;34m(self, key, method, tolerance)\u001b[0m\n\u001b[0;32m    385\u001b[0m         \u001b[38;5;28;01mreturn\u001b[39;00m \u001b[38;5;28mself\u001b[39m\u001b[38;5;241m.\u001b[39m_range\u001b[38;5;241m.\u001b[39mindex(new_key)\n\u001b[0;32m    386\u001b[0m     \u001b[38;5;28;01mexcept\u001b[39;00m \u001b[38;5;167;01mValueError\u001b[39;00m \u001b[38;5;28;01mas\u001b[39;00m err:\n\u001b[1;32m--> 387\u001b[0m         \u001b[38;5;28;01mraise\u001b[39;00m \u001b[38;5;167;01mKeyError\u001b[39;00m(key) \u001b[38;5;28;01mfrom\u001b[39;00m \u001b[38;5;21;01merr\u001b[39;00m\n\u001b[0;32m    388\u001b[0m \u001b[38;5;28mself\u001b[39m\u001b[38;5;241m.\u001b[39m_check_indexing_error(key)\n\u001b[0;32m    389\u001b[0m \u001b[38;5;28;01mraise\u001b[39;00m \u001b[38;5;167;01mKeyError\u001b[39;00m(key)\n",
      "\u001b[1;31mKeyError\u001b[0m: 1"
     ]
    }
   ],
   "source": [
    "bilstm_output.iloc[0][1]"
   ]
  },
  {
   "cell_type": "code",
   "execution_count": 119,
   "id": "dd23c9dc",
   "metadata": {},
   "outputs": [
    {
     "ename": "KeyError",
     "evalue": "'0'",
     "output_type": "error",
     "traceback": [
      "\u001b[1;31m---------------------------------------------------------------------------\u001b[0m",
      "\u001b[1;31mKeyError\u001b[0m                                  Traceback (most recent call last)",
      "Input \u001b[1;32mIn [119]\u001b[0m, in \u001b[0;36m<cell line: 3>\u001b[1;34m()\u001b[0m\n\u001b[0;32m      3\u001b[0m \u001b[38;5;28;01mfor\u001b[39;00m i \u001b[38;5;129;01min\u001b[39;00m (\u001b[38;5;241m0\u001b[39m,\u001b[38;5;241m4972\u001b[39m):\n\u001b[0;32m      4\u001b[0m     g\u001b[38;5;241m=\u001b[39mg\u001b[38;5;241m+\u001b[39m\u001b[38;5;241m1\u001b[39m\n\u001b[1;32m----> 5\u001b[0m     \u001b[38;5;28;01mif\u001b[39;00m \u001b[43mbilstm_output\u001b[49m\u001b[38;5;241;43m.\u001b[39;49m\u001b[43miloc\u001b[49m\u001b[43m[\u001b[49m\u001b[43mi\u001b[49m\u001b[43m]\u001b[49m\u001b[43m[\u001b[49m\u001b[38;5;124;43m'\u001b[39;49m\u001b[38;5;124;43m0\u001b[39;49m\u001b[38;5;124;43m'\u001b[39;49m\u001b[43m]\u001b[49m\u001b[38;5;241m==\u001b[39msgd_features\u001b[38;5;241m.\u001b[39miloc[i][\u001b[38;5;124m'\u001b[39m\u001b[38;5;124m0\u001b[39m\u001b[38;5;124m'\u001b[39m]:\n\u001b[0;32m      6\u001b[0m         m\u001b[38;5;241m=\u001b[39mm\u001b[38;5;241m+\u001b[39m\u001b[38;5;241m1\u001b[39m\n\u001b[0;32m      7\u001b[0m \u001b[38;5;28mprint\u001b[39m(m)  \n",
      "File \u001b[1;32m~\\anaconda3\\lib\\site-packages\\pandas\\core\\series.py:958\u001b[0m, in \u001b[0;36mSeries.__getitem__\u001b[1;34m(self, key)\u001b[0m\n\u001b[0;32m    955\u001b[0m     \u001b[38;5;28;01mreturn\u001b[39;00m \u001b[38;5;28mself\u001b[39m\u001b[38;5;241m.\u001b[39m_values[key]\n\u001b[0;32m    957\u001b[0m \u001b[38;5;28;01melif\u001b[39;00m key_is_scalar:\n\u001b[1;32m--> 958\u001b[0m     \u001b[38;5;28;01mreturn\u001b[39;00m \u001b[38;5;28;43mself\u001b[39;49m\u001b[38;5;241;43m.\u001b[39;49m\u001b[43m_get_value\u001b[49m\u001b[43m(\u001b[49m\u001b[43mkey\u001b[49m\u001b[43m)\u001b[49m\n\u001b[0;32m    960\u001b[0m \u001b[38;5;28;01mif\u001b[39;00m is_hashable(key):\n\u001b[0;32m    961\u001b[0m     \u001b[38;5;66;03m# Otherwise index.get_value will raise InvalidIndexError\u001b[39;00m\n\u001b[0;32m    962\u001b[0m     \u001b[38;5;28;01mtry\u001b[39;00m:\n\u001b[0;32m    963\u001b[0m         \u001b[38;5;66;03m# For labels that don't resolve as scalars like tuples and frozensets\u001b[39;00m\n",
      "File \u001b[1;32m~\\anaconda3\\lib\\site-packages\\pandas\\core\\series.py:1069\u001b[0m, in \u001b[0;36mSeries._get_value\u001b[1;34m(self, label, takeable)\u001b[0m\n\u001b[0;32m   1066\u001b[0m     \u001b[38;5;28;01mreturn\u001b[39;00m \u001b[38;5;28mself\u001b[39m\u001b[38;5;241m.\u001b[39m_values[label]\n\u001b[0;32m   1068\u001b[0m \u001b[38;5;66;03m# Similar to Index.get_value, but we do not fall back to positional\u001b[39;00m\n\u001b[1;32m-> 1069\u001b[0m loc \u001b[38;5;241m=\u001b[39m \u001b[38;5;28;43mself\u001b[39;49m\u001b[38;5;241;43m.\u001b[39;49m\u001b[43mindex\u001b[49m\u001b[38;5;241;43m.\u001b[39;49m\u001b[43mget_loc\u001b[49m\u001b[43m(\u001b[49m\u001b[43mlabel\u001b[49m\u001b[43m)\u001b[49m\n\u001b[0;32m   1070\u001b[0m \u001b[38;5;28;01mreturn\u001b[39;00m \u001b[38;5;28mself\u001b[39m\u001b[38;5;241m.\u001b[39mindex\u001b[38;5;241m.\u001b[39m_get_values_for_loc(\u001b[38;5;28mself\u001b[39m, loc, label)\n",
      "File \u001b[1;32m~\\anaconda3\\lib\\site-packages\\pandas\\core\\indexes\\range.py:389\u001b[0m, in \u001b[0;36mRangeIndex.get_loc\u001b[1;34m(self, key, method, tolerance)\u001b[0m\n\u001b[0;32m    387\u001b[0m             \u001b[38;5;28;01mraise\u001b[39;00m \u001b[38;5;167;01mKeyError\u001b[39;00m(key) \u001b[38;5;28;01mfrom\u001b[39;00m \u001b[38;5;21;01merr\u001b[39;00m\n\u001b[0;32m    388\u001b[0m     \u001b[38;5;28mself\u001b[39m\u001b[38;5;241m.\u001b[39m_check_indexing_error(key)\n\u001b[1;32m--> 389\u001b[0m     \u001b[38;5;28;01mraise\u001b[39;00m \u001b[38;5;167;01mKeyError\u001b[39;00m(key)\n\u001b[0;32m    390\u001b[0m \u001b[38;5;28;01mreturn\u001b[39;00m \u001b[38;5;28msuper\u001b[39m()\u001b[38;5;241m.\u001b[39mget_loc(key, method\u001b[38;5;241m=\u001b[39mmethod, tolerance\u001b[38;5;241m=\u001b[39mtolerance)\n",
      "\u001b[1;31mKeyError\u001b[0m: '0'"
     ]
    }
   ],
   "source": [
    "m=0\n",
    "g=0\n",
    "for i in (0,4972):\n",
    "    g=g+1\n",
    "    if bilstm_output.iloc[i]['0']==sgd_features.iloc[i]['0']:\n",
    "        m=m+1\n",
    "print(m)  \n",
    "print(g)"
   ]
  },
  {
   "cell_type": "code",
   "execution_count": null,
   "id": "b7aadb5c",
   "metadata": {},
   "outputs": [],
   "source": []
  }
 ],
 "metadata": {
  "kernelspec": {
   "display_name": "Python 3 (ipykernel)",
   "language": "python",
   "name": "python3"
  },
  "language_info": {
   "codemirror_mode": {
    "name": "ipython",
    "version": 3
   },
   "file_extension": ".py",
   "mimetype": "text/x-python",
   "name": "python",
   "nbconvert_exporter": "python",
   "pygments_lexer": "ipython3",
   "version": "3.9.12"
  }
 },
 "nbformat": 4,
 "nbformat_minor": 5
}
